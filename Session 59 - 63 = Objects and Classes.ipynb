{
 "cells": [
  {
   "cell_type": "markdown",
   "metadata": {},
   "source": [
    "# Objects and Classes"
   ]
  },
  {
   "cell_type": "code",
   "execution_count": 1,
   "metadata": {},
   "outputs": [],
   "source": [
    "class Car():\n",
    "    def __init__(self):\n",
    "        self.color = 'black'\n",
    "        self.brand = 'Audi'\n",
    "        self.model = 'A4'"
   ]
  },
  {
   "cell_type": "code",
   "execution_count": 3,
   "metadata": {},
   "outputs": [
    {
     "name": "stdout",
     "output_type": "stream",
     "text": [
      "black\n"
     ]
    }
   ],
   "source": [
    "audi_car = Car()\n",
    "print(audi_car.color)"
   ]
  },
  {
   "cell_type": "code",
   "execution_count": 4,
   "metadata": {},
   "outputs": [
    {
     "name": "stdout",
     "output_type": "stream",
     "text": [
      "Manchester\n"
     ]
    }
   ],
   "source": [
    "class Team():\n",
    "    def __init__(self):\n",
    "        self.name = 'Manchester'\n",
    "man = Team()\n",
    "print(man.name)"
   ]
  },
  {
   "cell_type": "markdown",
   "metadata": {},
   "source": [
    "# Instance method __Init__"
   ]
  },
  {
   "cell_type": "code",
   "execution_count": 5,
   "metadata": {},
   "outputs": [],
   "source": [
    "# Take as parameter self :: himself"
   ]
  },
  {
   "cell_type": "code",
   "execution_count": 6,
   "metadata": {},
   "outputs": [
    {
     "name": "stdout",
     "output_type": "stream",
     "text": [
      "Madrid\n"
     ]
    }
   ],
   "source": [
    "class Team():\n",
    "    def __init__(self, name):\n",
    "        self.name = name\n",
    "        \n",
    "madrid = Team('Madrid')\n",
    "print(madrid.name)"
   ]
  },
  {
   "cell_type": "markdown",
   "metadata": {},
   "source": [
    "## Other instance method"
   ]
  },
  {
   "cell_type": "code",
   "execution_count": 7,
   "metadata": {},
   "outputs": [],
   "source": [
    "class Team():\n",
    "    def __init__(self, name):\n",
    "        self.name = name\n",
    "        \n",
    "    def print_name(self):\n",
    "        print(self.name)"
   ]
  },
  {
   "cell_type": "code",
   "execution_count": 9,
   "metadata": {},
   "outputs": [
    {
     "name": "stdout",
     "output_type": "stream",
     "text": [
      "Madrid\n"
     ]
    }
   ],
   "source": [
    "madrid = Team('Madrid')\n",
    "madrid.print_name()"
   ]
  },
  {
   "cell_type": "code",
   "execution_count": 10,
   "metadata": {},
   "outputs": [],
   "source": [
    "import csv\n",
    "f = open('nfl.csv')\n",
    "nfl = list(csv.reader(f))"
   ]
  },
  {
   "cell_type": "code",
   "execution_count": 11,
   "metadata": {},
   "outputs": [],
   "source": [
    "class Team():\n",
    "    def __init__(self, name):\n",
    "        self.name = name\n",
    "    \n",
    "    def print_name(self):\n",
    "        print(self.name)\n",
    "    \n",
    "    def count_total_wins(self):\n",
    "        count = 0\n",
    "        for row in nfl:\n",
    "            if row[2] == self.name:\n",
    "                count +=1\n",
    "        return(count)"
   ]
  },
  {
   "cell_type": "code",
   "execution_count": 12,
   "metadata": {},
   "outputs": [],
   "source": [
    "broncos = Team('Denver Broncos')\n",
    "broncos_wins = broncos.count_total_wins()"
   ]
  },
  {
   "cell_type": "code",
   "execution_count": 13,
   "metadata": {},
   "outputs": [
    {
     "name": "stdout",
     "output_type": "stream",
     "text": [
      "46\n"
     ]
    }
   ],
   "source": [
    "print(broncos_wins)"
   ]
  },
  {
   "cell_type": "markdown",
   "metadata": {},
   "source": [
    "## Personal Bonus : instanciate all teams"
   ]
  },
  {
   "cell_type": "markdown",
   "metadata": {},
   "source": [
    "### Create a list of names"
   ]
  },
  {
   "cell_type": "code",
   "execution_count": 14,
   "metadata": {},
   "outputs": [
    {
     "name": "stdout",
     "output_type": "stream",
     "text": [
      "['Pittsburgh Steelers', 'Tennessee Titans', 'Minnesota Vikings', 'Cleveland Browns', 'New York Giants', 'Washington Redskins', 'San Francisco 49ers', 'Arizona Cardinals', 'Seattle Seahawks', 'St. Louis Rams', 'Philadelphia Eagles', 'Carolina Panthers', 'New York Jets', 'Houston Texans', 'Atlanta Falcons', 'Miami Dolphins', 'Baltimore Ravens', 'Kansas City Chiefs', 'Indianapolis Colts', 'Jacksonville Jaguars', 'New Orleans Saints', 'Detroit Lions', 'Denver Broncos', 'Cincinnati Bengals', 'Green Bay Packers', 'Chicago Bears', 'Dallas Cowboys', 'Tampa Bay Buccaneers', 'New England Patriots', 'Buffalo Bills', 'San Diego Chargers', 'Oakland Raiders']\n"
     ]
    }
   ],
   "source": [
    "name_list = []\n",
    "for row in nfl:\n",
    "    if row[2] not in name_list:\n",
    "        name_list.append(row[2])\n",
    "    if row[3] not in name_list:\n",
    "        name_list.append(row[3])\n",
    "    else:\n",
    "        continue\n",
    "        \n",
    "print(name_list)"
   ]
  },
  {
   "cell_type": "markdown",
   "metadata": {},
   "source": [
    "### Create a dictionnary of object"
   ]
  },
  {
   "cell_type": "code",
   "execution_count": 17,
   "metadata": {},
   "outputs": [
    {
     "data": {
      "text/plain": [
       "49"
      ]
     },
     "execution_count": 17,
     "metadata": {},
     "output_type": "execute_result"
    }
   ],
   "source": [
    "team_object = {}\n",
    "for row in name_list:\n",
    "    team_object[row] = Team(row)\n",
    "    \n",
    "# print(team_object)\n",
    "\n",
    "# Call a team :\n",
    "team_object['Pittsburgh Steelers'].count_total_wins()"
   ]
  },
  {
   "cell_type": "markdown",
   "metadata": {},
   "source": [
    "# End of Bonus"
   ]
  },
  {
   "cell_type": "markdown",
   "metadata": {},
   "source": [
    "### Improve the __init__ method"
   ]
  },
  {
   "cell_type": "code",
   "execution_count": 37,
   "metadata": {},
   "outputs": [],
   "source": [
    "import csv\n",
    "class Team():\n",
    "    \n",
    "    def __init__(self, name):\n",
    "        self.nfl = list(csv.reader(open('nfl.csv')))\n",
    "        self.name = name\n",
    "    \n",
    "    def print_name(self):\n",
    "        print(self.name)\n",
    "    \n",
    "    def count_total_wins(self):\n",
    "        count = 0\n",
    "        for row in self.nfl:\n",
    "            if row[2] == self.name:\n",
    "                count +=1\n",
    "        return(count)\n",
    "    \n",
    "    ## Add a method : Wins for a given year\n",
    "    \n",
    "    def count_wins_per_year(self, year):\n",
    "        count = 0\n",
    "        str_year = str(year)\n",
    "        for row in self.nfl:\n",
    "            if row[2] == self.name and row[0] == str_year:\n",
    "                count += 1\n",
    "        return(count)\n",
    "        "
   ]
  },
  {
   "cell_type": "code",
   "execution_count": 38,
   "metadata": {},
   "outputs": [
    {
     "name": "stdout",
     "output_type": "stream",
     "text": [
      "51\n",
      "12\n"
     ]
    }
   ],
   "source": [
    "sf = Team('San Francisco 49ers')\n",
    "sf_wins =sf.count_total_wins()\n",
    "sf_wins_2013 = sf.count_wins_per_year(year = 2013)\n",
    "print(sf_wins)\n",
    "print(sf_wins_2013)"
   ]
  },
  {
   "cell_type": "code",
   "execution_count": null,
   "metadata": {},
   "outputs": [],
   "source": []
  }
 ],
 "metadata": {
  "kernelspec": {
   "display_name": "Python 3",
   "language": "python",
   "name": "python3"
  },
  "language_info": {
   "codemirror_mode": {
    "name": "ipython",
    "version": 3
   },
   "file_extension": ".py",
   "mimetype": "text/x-python",
   "name": "python",
   "nbconvert_exporter": "python",
   "pygments_lexer": "ipython3",
   "version": "3.6.5"
  }
 },
 "nbformat": 4,
 "nbformat_minor": 2
}
