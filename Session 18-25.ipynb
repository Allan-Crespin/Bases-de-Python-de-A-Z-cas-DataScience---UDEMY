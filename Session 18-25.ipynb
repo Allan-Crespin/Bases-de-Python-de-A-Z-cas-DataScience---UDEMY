{
 "cells": [
  {
   "cell_type": "markdown",
   "metadata": {},
   "source": [
    "# Booleens / Operateurs\n"
   ]
  },
  {
   "cell_type": "code",
   "execution_count": 1,
   "metadata": {},
   "outputs": [
    {
     "name": "stdout",
     "output_type": "stream",
     "text": [
      "True\n",
      "False\n"
     ]
    }
   ],
   "source": [
    "# ==\n",
    "print(2==2)\n",
    "print(5==7)"
   ]
  },
  {
   "cell_type": "code",
   "execution_count": 2,
   "metadata": {},
   "outputs": [
    {
     "name": "stdout",
     "output_type": "stream",
     "text": [
      "False\n",
      "True\n"
     ]
    }
   ],
   "source": [
    "# !=\n",
    "print(2!=2)\n",
    "print(8!=6)"
   ]
  },
  {
   "cell_type": "code",
   "execution_count": 3,
   "metadata": {},
   "outputs": [
    {
     "name": "stdout",
     "output_type": "stream",
     "text": [
      "False\n",
      "True\n",
      "False\n"
     ]
    }
   ],
   "source": [
    "# < et <=\n",
    "print(5<5)\n",
    "print(5<=5)\n",
    "print(8<5)"
   ]
  },
  {
   "cell_type": "code",
   "execution_count": 4,
   "metadata": {},
   "outputs": [
    {
     "name": "stdout",
     "output_type": "stream",
     "text": [
      "False\n",
      "True\n",
      "True\n"
     ]
    }
   ],
   "source": [
    "# > et >=\n",
    "print(5>5)\n",
    "print(5>=5)\n",
    "print(8>5)"
   ]
  },
  {
   "cell_type": "code",
   "execution_count": 5,
   "metadata": {},
   "outputs": [
    {
     "name": "stdout",
     "output_type": "stream",
     "text": [
      "False\n"
     ]
    }
   ],
   "source": [
    "# Assisgnation\n",
    "u = (8!= 8)\n",
    "print(u)"
   ]
  },
  {
   "cell_type": "code",
   "execution_count": 6,
   "metadata": {},
   "outputs": [
    {
     "name": "stdout",
     "output_type": "stream",
     "text": [
      "True\n",
      "False\n"
     ]
    }
   ],
   "source": [
    "print(['chien', 'chat'] == ['chien', 'chat'])\n",
    "print(['chien', 'chat'] == ['chat', 'chien'])\n"
   ]
  },
  {
   "cell_type": "code",
   "execution_count": 3,
   "metadata": {},
   "outputs": [
    {
     "name": "stdout",
     "output_type": "stream",
     "text": [
      "['Ain', 'Aisne', 'Allier', 'Alpes-de-Haute-Provence', 'Alpes-Maritimes', 'Ardèche', 'Ardennes', 'Ariège', 'Aube', 'Aude', 'Aveyron', 'Bas-Rhin', 'Bouches-du-Rhône', 'Calvados', 'Cantal', 'Charente', 'Charente-Maritime', 'Cher', 'Corrèze', 'Corse-du-Sud', \"Côte-d'Or\", \"Côtes-d'Armor\", 'Creuse', 'Deux-Sèvres', 'Dordogne', 'Doubs', 'Drôme', 'Essonne', 'Eure', 'Eure-et-Loir', 'Finistère', 'Gard', 'Gers', 'Gironde', 'Guadeloupe', 'Guyane', 'Haute-Corse', 'Haute-Garonne', 'Haute-Loire', 'Haute-Marne', 'Hautes-Alpes', 'Haute-Saône', 'Haute-Savoie', 'Hautes-Pyrénées', 'Haute-Vienne', 'Haut-Rhin', 'Hauts-de-Seine', 'Hérault', 'Ille-et-Vilaine', 'Indre', 'Indre-et-Loire', 'Isère', 'Jura', 'La Réunion', 'Landes', 'Loire', 'Loire-Atlantique', 'Loiret', 'Loir-et-Cher', 'Lot', 'Lot-et-Garonne', 'Lozère', 'Maine-et-Loire', 'Manche', 'Marne', 'Martinique', 'Mayenne', 'Meurthe-et-Moselle', 'Meuse', 'Morbihan', 'Moselle', 'Nièvre', 'Nord', 'Oise', 'Orne', 'Paris', 'Pas-de-Calais', 'Puy-de-Dôme', 'Pyrénées-Atlantiques', 'Pyrénées-Orientales', 'Rhône', 'Saône-et-Loire', 'Sarthe', 'Savoie', 'Seine-et-Marne', 'Seine-Maritime', 'Seine-Saint-Denis', 'Somme', 'Tarn', 'Tarn-et-Garonne', 'Territoire de Belfort', 'Val-de-Marne', \"Val-d'Oise\", 'Var', 'Vaucluse', 'Vendée', 'Vienne', 'Vosges', 'Yonne', 'Yvelines']\n",
      "[643309, 554040, 353262, 166298, 1098785, 332051, 287775, 158076, 316098, 375065, 289901, 1131812, 2035475, 708407, 152400, 366787, 656046, 318590, 249684, 154100, 545001, 617413, 124948, 384655, 428651, 549155, 514104, 1286908, 616076, 445083, 935393, 752382, 197988, 1556663, 406706, 254845, 175499, 1344579, 234078, 186698, 145213, 246022, 806447, 236577, 384708, 775941, 1617484, 1127333, 1060051, 232802, 619004, 1271938, 270826, 541487, 414090, 774262, 1382766, 688098, 344121, 180016, 343198, 80423, 829156, 518322, 584297, 390252, 317716, 746687, 197763, 764338, 1065894, 221048, 2640622, 838646, 297109, 2243739, 1497668, 661248, 688451, 474842, 1833002, 574229, 583961, 440777, 1400477, 1284107, 1582139, 583641, 396341, 258696, 147647, 1377511, 1221946, 1055745, 566592, 681469, 444347, 386978, 352433, 1449398]\n"
     ]
    }
   ],
   "source": [
    "f = open('departements-fr.csv','r', encoding='ISO-8859-1')\n",
    "data = f.read()\n",
    "rows = data.split(\"\\n\")\n",
    "\n",
    "departements = []\n",
    "int_dep_pop = []\n",
    "\n",
    "for row in rows:\n",
    "    values = row.split(',')\n",
    "    int_dep_pop.append(int(values[1]))\n",
    "    departements.append(values[0])\n",
    "    \n",
    "print(departements)\n",
    "print(int_dep_pop)"
   ]
  },
  {
   "cell_type": "code",
   "execution_count": 8,
   "metadata": {},
   "outputs": [
    {
     "name": "stdout",
     "output_type": "stream",
     "text": [
      "True\n",
      "False\n",
      "False\n"
     ]
    }
   ],
   "source": [
    "first_ain = (departements[0]=='Ain')\n",
    "second_ain = (departements[1]=='Ain')\n",
    "first_last = (departements[0] == departements[len(departements)-1])\n",
    "\n",
    "print(first_ain)\n",
    "print(second_ain)\n",
    "print(first_last)"
   ]
  },
  {
   "cell_type": "code",
   "execution_count": 15,
   "metadata": {},
   "outputs": [],
   "source": [
    "first_500000 = (int_dep_pop[0] > 500000)\n",
    "first_650000 = (int_dep_pop[0] > 650000)\n",
    "first_last = (int_dep_pop[0] >= int_dep_pop[len(int_dep_pop)-1])\n"
   ]
  },
  {
   "cell_type": "code",
   "execution_count": 16,
   "metadata": {},
   "outputs": [
    {
     "name": "stdout",
     "output_type": "stream",
     "text": [
      "True\n",
      "False\n",
      "False\n"
     ]
    }
   ],
   "source": [
    "print(first_500000)\n",
    "print(first_650000)\n",
    "print(first_last)\n"
   ]
  },
  {
   "cell_type": "markdown",
   "metadata": {},
   "source": [
    "# La condition if"
   ]
  },
  {
   "cell_type": "code",
   "execution_count": 18,
   "metadata": {},
   "outputs": [],
   "source": [
    "age = 55\n",
    "greater = (age > 35)\n",
    "\n",
    "if greater:\n",
    "    print(age)"
   ]
  },
  {
   "cell_type": "code",
   "execution_count": 1,
   "metadata": {},
   "outputs": [
    {
     "name": "stdout",
     "output_type": "stream",
     "text": [
      "Ce nombre est énorme\n"
     ]
    }
   ],
   "source": [
    "value = 1000\n",
    "if value > 100:\n",
    "    if value > 500:\n",
    "        print(\"Ce nombre est énorme\")\n"
   ]
  },
  {
   "cell_type": "code",
   "execution_count": 4,
   "metadata": {},
   "outputs": [
    {
     "name": "stdout",
     "output_type": "stream",
     "text": [
      "1\n"
     ]
    }
   ],
   "source": [
    "result = 0\n",
    "\n",
    "if departements[5] == 'Ardèche':\n",
    "    result = 1\n",
    "    print(result)"
   ]
  },
  {
   "cell_type": "code",
   "execution_count": 5,
   "metadata": {},
   "outputs": [
    {
     "name": "stdout",
     "output_type": "stream",
     "text": [
      "True\n"
     ]
    }
   ],
   "source": [
    "both_conditions = False\n",
    "if int_dep_pop[0] > 600000:\n",
    "    if int_dep_pop[1] > 300000:\n",
    "        both_conditions = True\n",
    "        \n",
    "print(both_conditions)"
   ]
  },
  {
   "cell_type": "markdown",
   "metadata": {},
   "source": [
    "# If et Boucle For\n"
   ]
  },
  {
   "cell_type": "code",
   "execution_count": 7,
   "metadata": {},
   "outputs": [
    {
     "name": "stdout",
     "output_type": "stream",
     "text": [
      "Paris est dans la liste\n",
      "True\n"
     ]
    }
   ],
   "source": [
    "found = False\n",
    "for dep in departements:\n",
    "    if dep == 'Paris':\n",
    "        found = True\n",
    "if found:\n",
    "    print('Paris est dans la liste')\n",
    "        \n",
    "print(found)"
   ]
  },
  {
   "cell_type": "code",
   "execution_count": 8,
   "metadata": {},
   "outputs": [],
   "source": [
    "count = 0\n",
    "index = 0\n",
    "\n",
    "for dep in departements:\n",
    "    if dep == 'Paris':\n",
    "        index = count\n",
    "    count += 1\n"
   ]
  },
  {
   "cell_type": "code",
   "execution_count": 9,
   "metadata": {},
   "outputs": [
    {
     "name": "stdout",
     "output_type": "stream",
     "text": [
      "100\n",
      "75\n"
     ]
    }
   ],
   "source": [
    "print(count)\n",
    "print(index)"
   ]
  },
  {
   "cell_type": "code",
   "execution_count": 13,
   "metadata": {},
   "outputs": [
    {
     "name": "stdout",
     "output_type": "stream",
     "text": [
      "['Alpes-Maritimes', 'Bas-Rhin', 'Bouches-du-Rhône', 'Essonne', 'Gironde', 'Haute-Garonne', 'Hauts-de-Seine', 'Hérault', 'Ille-et-Vilaine', 'Isère', 'Loire-Atlantique', 'Moselle', 'Nord', 'Paris', 'Pas-de-Calais', 'Rhône', 'Seine-et-Marne', 'Seine-Maritime', 'Seine-Saint-Denis', 'Val-de-Marne', \"Val-d'Oise\", 'Var', 'Yvelines']\n"
     ]
    }
   ],
   "source": [
    "million_list = []\n",
    "index = 0\n",
    "count = 0\n",
    "\n",
    "for hab in int_dep_pop:\n",
    "    if hab > 1000000:\n",
    "        index = count\n",
    "        million_list.append(departements[count])\n",
    "        #million_list.append(hab)\n",
    "    count +=1\n",
    "        \n",
    "print(million_list)"
   ]
  },
  {
   "cell_type": "code",
   "execution_count": null,
   "metadata": {},
   "outputs": [],
   "source": []
  }
 ],
 "metadata": {
  "kernelspec": {
   "display_name": "Python 3",
   "language": "python",
   "name": "python3"
  },
  "language_info": {
   "codemirror_mode": {
    "name": "ipython",
    "version": 3
   },
   "file_extension": ".py",
   "mimetype": "text/x-python",
   "name": "python",
   "nbconvert_exporter": "python",
   "pygments_lexer": "ipython3",
   "version": "3.6.5"
  }
 },
 "nbformat": 4,
 "nbformat_minor": 2
}
