{
 "cells": [
  {
   "cell_type": "markdown",
   "metadata": {},
   "source": [
    "# Let's discover our dataset !\n",
    "### Reading and showing the dataset"
   ]
  },
  {
   "cell_type": "code",
   "execution_count": 4,
   "metadata": {},
   "outputs": [],
   "source": [
    "import csv\n",
    "\n",
    "file = csv.reader(open('guns.csv', encoding = 'utf-8'))\n",
    "dataset = list(file)"
   ]
  },
  {
   "cell_type": "code",
   "execution_count": 6,
   "metadata": {},
   "outputs": [
    {
     "name": "stdout",
     "output_type": "stream",
     "text": [
      "[['', 'year', 'month', 'intent', 'police', 'sex', 'age', 'race', 'hispanic', 'place', 'education'], ['1', '2012', '01', 'Suicide', '0', 'M', '34', 'Asian/Pacific Islander', '100', 'Home', '4'], ['2', '2012', '01', 'Suicide', '0', 'F', '21', 'White', '100', 'Street', '3'], ['3', '2012', '01', 'Suicide', '0', 'M', '60', 'White', '100', 'Other specified', '4'], ['4', '2012', '02', 'Suicide', '0', 'M', '64', 'White', '100', 'Home', '4']]\n"
     ]
    }
   ],
   "source": [
    "print(dataset[0:5])"
   ]
  },
  {
   "cell_type": "markdown",
   "metadata": {},
   "source": [
    "Let's extract the header :"
   ]
  },
  {
   "cell_type": "code",
   "execution_count": 7,
   "metadata": {},
   "outputs": [],
   "source": [
    "header = dataset[0:1]\n",
    "guns = dataset[1:]"
   ]
  },
  {
   "cell_type": "code",
   "execution_count": 8,
   "metadata": {},
   "outputs": [
    {
     "name": "stdout",
     "output_type": "stream",
     "text": [
      "[['', 'year', 'month', 'intent', 'police', 'sex', 'age', 'race', 'hispanic', 'place', 'education']]\n"
     ]
    }
   ],
   "source": [
    "print(header)"
   ]
  },
  {
   "cell_type": "code",
   "execution_count": 9,
   "metadata": {},
   "outputs": [
    {
     "name": "stdout",
     "output_type": "stream",
     "text": [
      "[['1', '2012', '01', 'Suicide', '0', 'M', '34', 'Asian/Pacific Islander', '100', 'Home', '4'], ['2', '2012', '01', 'Suicide', '0', 'F', '21', 'White', '100', 'Street', '3'], ['3', '2012', '01', 'Suicide', '0', 'M', '60', 'White', '100', 'Other specified', '4'], ['4', '2012', '02', 'Suicide', '0', 'M', '64', 'White', '100', 'Home', '4'], ['5', '2012', '02', 'Suicide', '0', 'M', '31', 'White', '100', 'Other specified', '2']]\n"
     ]
    }
   ],
   "source": [
    "print(guns[0:5])"
   ]
  },
  {
   "cell_type": "markdown",
   "metadata": {},
   "source": [
    "### Exploring the dataset"
   ]
  },
  {
   "cell_type": "markdown",
   "metadata": {},
   "source": [
    "### Number of deceased by firearms in the United States :"
   ]
  },
  {
   "cell_type": "code",
   "execution_count": 24,
   "metadata": {},
   "outputs": [
    {
     "name": "stdout",
     "output_type": "stream",
     "text": [
      "100798\n"
     ]
    }
   ],
   "source": [
    "years = [gun[1] for gun in guns]\n",
    "death = 0\n",
    "\n",
    "for row in guns:\n",
    "    death += 1\n",
    "print(death)"
   ]
  },
  {
   "cell_type": "code",
   "execution_count": 12,
   "metadata": {},
   "outputs": [
    {
     "name": "stdout",
     "output_type": "stream",
     "text": [
      "{'2012': 33563, '2013': 33636, '2014': 33599}\n"
     ]
    }
   ],
   "source": [
    "year_counts = {}\n",
    "for year in years:\n",
    "    if year in year_counts:\n",
    "        year_counts[year] += 1\n",
    "    else:\n",
    "        year_counts[year] =1\n",
    "\n",
    "print(year_counts)"
   ]
  },
  {
   "cell_type": "markdown",
   "metadata": {},
   "source": [
    "As we can see, our data set is from 2012 to 2014, and in those 3 years, approximatively 100 000 people died from firearms uses."
   ]
  },
  {
   "cell_type": "markdown",
   "metadata": {},
   "source": [
    "### Let's define the dates more precisely"
   ]
  },
  {
   "cell_type": "code",
   "execution_count": 15,
   "metadata": {},
   "outputs": [],
   "source": [
    "import datetime\n",
    "\n",
    "dates = [datetime.datetime(year = int(row[1]), month = int(row[2]), day = 1) for row in guns]"
   ]
  },
  {
   "cell_type": "code",
   "execution_count": 16,
   "metadata": {},
   "outputs": [
    {
     "name": "stdout",
     "output_type": "stream",
     "text": [
      "[datetime.datetime(2012, 1, 1, 0, 0), datetime.datetime(2012, 1, 1, 0, 0), datetime.datetime(2012, 1, 1, 0, 0), datetime.datetime(2012, 2, 1, 0, 0), datetime.datetime(2012, 2, 1, 0, 0)]\n"
     ]
    }
   ],
   "source": [
    "print(dates[0:5])"
   ]
  },
  {
   "cell_type": "code",
   "execution_count": 17,
   "metadata": {},
   "outputs": [
    {
     "name": "stdout",
     "output_type": "stream",
     "text": [
      "{datetime.datetime(2012, 1, 1, 0, 0): 2758, datetime.datetime(2012, 2, 1, 0, 0): 2357, datetime.datetime(2012, 3, 1, 0, 0): 2743, datetime.datetime(2012, 4, 1, 0, 0): 2795, datetime.datetime(2012, 5, 1, 0, 0): 2999, datetime.datetime(2012, 6, 1, 0, 0): 2826, datetime.datetime(2012, 7, 1, 0, 0): 3026, datetime.datetime(2012, 8, 1, 0, 0): 2954, datetime.datetime(2012, 9, 1, 0, 0): 2852, datetime.datetime(2012, 10, 1, 0, 0): 2733, datetime.datetime(2012, 11, 1, 0, 0): 2729, datetime.datetime(2012, 12, 1, 0, 0): 2791, datetime.datetime(2013, 1, 1, 0, 0): 2864, datetime.datetime(2013, 2, 1, 0, 0): 2375, datetime.datetime(2013, 3, 1, 0, 0): 2862, datetime.datetime(2013, 4, 1, 0, 0): 2798, datetime.datetime(2013, 5, 1, 0, 0): 2806, datetime.datetime(2013, 6, 1, 0, 0): 2920, datetime.datetime(2013, 7, 1, 0, 0): 3079, datetime.datetime(2013, 8, 1, 0, 0): 2859, datetime.datetime(2013, 9, 1, 0, 0): 2742, datetime.datetime(2013, 10, 1, 0, 0): 2808, datetime.datetime(2013, 11, 1, 0, 0): 2758, datetime.datetime(2013, 12, 1, 0, 0): 2765, datetime.datetime(2014, 1, 1, 0, 0): 2651, datetime.datetime(2014, 2, 1, 0, 0): 2361, datetime.datetime(2014, 3, 1, 0, 0): 2684, datetime.datetime(2014, 4, 1, 0, 0): 2862, datetime.datetime(2014, 5, 1, 0, 0): 2864, datetime.datetime(2014, 6, 1, 0, 0): 2931, datetime.datetime(2014, 7, 1, 0, 0): 2884, datetime.datetime(2014, 8, 1, 0, 0): 2970, datetime.datetime(2014, 9, 1, 0, 0): 2914, datetime.datetime(2014, 10, 1, 0, 0): 2865, datetime.datetime(2014, 11, 1, 0, 0): 2756, datetime.datetime(2014, 12, 1, 0, 0): 2857}\n"
     ]
    }
   ],
   "source": [
    "dates_counts = {}\n",
    "\n",
    "for date in dates:\n",
    "    if date not in dates_counts:\n",
    "        dates_counts[date] = 0\n",
    "    dates_counts[date] += 1\n",
    "\n",
    "print(dates_counts)"
   ]
  },
  {
   "cell_type": "markdown",
   "metadata": {},
   "source": [
    "As we can see on this list, firearms related deaths seems to be more important during summer season (may/june to september/october)."
   ]
  },
  {
   "cell_type": "markdown",
   "metadata": {},
   "source": [
    " ## Exploring the dataset in function of sex and race"
   ]
  },
  {
   "cell_type": "markdown",
   "metadata": {},
   "source": [
    "#### Gender equality ?"
   ]
  },
  {
   "cell_type": "code",
   "execution_count": 33,
   "metadata": {},
   "outputs": [
    {
     "name": "stdout",
     "output_type": "stream",
     "text": [
      "{'M': 86349, 'F': 14449}\n",
      "% of male death : 85.67\n",
      "% of female death : 14.33\n"
     ]
    }
   ],
   "source": [
    "gender_counts = {}\n",
    "\n",
    "for row in guns:\n",
    "    gender = row[5]\n",
    "    if gender not in gender_counts:\n",
    "        gender_counts[gender] = 0\n",
    "    gender_counts[gender] += 1\n",
    "print(gender_counts)\n",
    "\n",
    "male = gender_counts['M'] / (death/100)\n",
    "male = round(male, 2)\n",
    "female = round(100 - male, 2)\n",
    "print('% of male death : ' + str(male))\n",
    "print('% of female death : ' + str(female))\n"
   ]
  },
  {
   "cell_type": "markdown",
   "metadata": {},
   "source": [
    "More than 85% of the deaths by firearms concerns men, it doesn't seem very fair ... (of course we should look at male/female ratio in US)"
   ]
  },
  {
   "cell_type": "markdown",
   "metadata": {},
   "source": [
    "### Origins"
   ]
  },
  {
   "cell_type": "code",
   "execution_count": 39,
   "metadata": {},
   "outputs": [
    {
     "name": "stdout",
     "output_type": "stream",
     "text": [
      "{'Asian/Pacific Islander': 1326, 'White': 66237, 'Native American/Native Alaskan': 917, 'Black': 23296, 'Hispanic': 9022}\n",
      "% of white people deaths :65.71\n",
      "% of black people deaths :23.11\n",
      "% of hispanic people deaths :8.95\n",
      "% of asian people deaths :1.32\n",
      "% of native people deaths :0.91\n"
     ]
    }
   ],
   "source": [
    "origin_counts = {}\n",
    "\n",
    "for row in guns:\n",
    "    origin = row[7]\n",
    "    if origin not in origin_counts:\n",
    "        origin_counts[origin] = 0\n",
    "    origin_counts[origin] += 1\n",
    "    \n",
    "print(origin_counts)\n",
    "\n",
    "white = round(origin_counts['White'] / (death/100), 2)\n",
    "black = round(origin_counts['Black'] / (death/100), 2)\n",
    "hispanic = round(origin_counts['Hispanic'] / (death/100), 2)\n",
    "asian = round(origin_counts['Asian/Pacific Islander'] / (death/100), 2)\n",
    "native = round(origin_counts['Native American/Native Alaskan'] / (death/100), 2)\n",
    "\n",
    "print('% of white people deaths :' + str(white))\n",
    "print('% of black people deaths :' + str(black))\n",
    "print('% of hispanic people deaths :' + str(hispanic))\n",
    "print('% of asian people deaths :' + str(asian))\n",
    "print('% of native people deaths :' + str(native))"
   ]
  },
  {
   "cell_type": "markdown",
   "metadata": {},
   "source": [
    "Most of firearms related deaths concern white people, followed by black people, (Native american come last, but this dataset is about 2012 to 2014, things could have been different à few centuries ago). These numbers need to be compared with the population ratio before making sudden conclusions..."
   ]
  },
  {
   "cell_type": "markdown",
   "metadata": {},
   "source": [
    "# Personal bonuses : Causes "
   ]
  },
  {
   "cell_type": "code",
   "execution_count": 41,
   "metadata": {},
   "outputs": [
    {
     "name": "stdout",
     "output_type": "stream",
     "text": [
      "{'Suicide': 63175, 'Undetermined': 807, 'Accidental': 1639, 'Homicide': 35176, 'NA': 1}\n",
      "% of suicide : 62.67\n",
      "% of homicide : 34.9\n",
      "% of accidents : 1.63\n"
     ]
    }
   ],
   "source": [
    "type_counts = {}\n",
    "\n",
    "for row in guns:\n",
    "    death_type = row[3]\n",
    "    if death_type not in type_counts:\n",
    "        type_counts[death_type] = 0\n",
    "    type_counts[death_type] += 1\n",
    "\n",
    "print(type_counts)\n",
    "\n",
    "suicide = round(type_counts['Suicide'] / (death/100),2)\n",
    "homicide = round(type_counts['Homicide'] / (death/100),2)\n",
    "accidental = round(type_counts['Accidental'] / (death/100),2)\n",
    "\n",
    "print('% of suicide : ' + str(suicide))\n",
    "print('% of homicide : ' + str(homicide))\n",
    "print('% of accidents : ' + str(accidental))"
   ]
  },
  {
   "cell_type": "markdown",
   "metadata": {},
   "source": [
    "The most common firearm related death in the United States is Suicide (with more than 60%), a third are homicides and a very few are accidents."
   ]
  },
  {
   "cell_type": "markdown",
   "metadata": {},
   "source": [
    "### Let's try to find relations between gender, dates, causes and origins."
   ]
  },
  {
   "cell_type": "markdown",
   "metadata": {},
   "source": [
    "#### Types of deaths by gender :"
   ]
  },
  {
   "cell_type": "code",
   "execution_count": 54,
   "metadata": {},
   "outputs": [
    {
     "name": "stdout",
     "output_type": "stream",
     "text": [
      "Male : {'Suicide': 54486, 'Undetermined': 638, 'Accidental': 1421, 'Homicide': 29803, 'NA': 1}\n",
      "Female : {'Suicide': 8689, 'Homicide': 5373, 'Undetermined': 169, 'Accidental': 218}\n",
      "\n",
      "Causes Ratio men/women : \n",
      "\n",
      "Accidental : 6.52\n",
      "Homicide : 5.55\n",
      "Suicide : 6.27\n",
      "Undetermined : 3.78\n",
      "Genral ratio : 5.98\n"
     ]
    }
   ],
   "source": [
    "male_type_counts = {}\n",
    "female_type_counts = {}\n",
    "\n",
    "list_type = ['Accidental', 'Homicide', 'Suicide', 'Undetermined']\n",
    "for row in guns:\n",
    "    gender = row[5]\n",
    "    death_type = row[3]\n",
    "    if gender == 'M':\n",
    "        if death_type not in male_type_counts:\n",
    "            male_type_counts[death_type] = 0\n",
    "        male_type_counts[death_type] += 1\n",
    "            \n",
    "    if gender == 'F':\n",
    "        if death_type not in female_type_counts:\n",
    "            female_type_counts[death_type] = 0\n",
    "        female_type_counts[death_type] += 1\n",
    "        \n",
    "print('Male : ' + str(male_type_counts))\n",
    "print('Female : ' + str(female_type_counts))\n",
    "\n",
    "print('\\nCauses Ratio men/women : \\n')\n",
    "for row in list_type:\n",
    "    print(str(row) + ' : ' + str(round(male_type_counts[row] / female_type_counts[row], 2)))\n",
    "    \n",
    "    \n",
    "print('Genral ratio : ' + str(round(gender_counts['M']/gender_counts['F'], 2)))"
   ]
  },
  {
   "cell_type": "markdown",
   "metadata": {},
   "source": [
    "In general, 6 men die from firearms for 1 women, we can see a little increment for accidents and suicide and a decrement for homicide."
   ]
  },
  {
   "cell_type": "markdown",
   "metadata": {},
   "source": [
    "### Let's have a look to seasons and type of death"
   ]
  },
  {
   "cell_type": "code",
   "execution_count": 68,
   "metadata": {},
   "outputs": [
    {
     "name": "stdout",
     "output_type": "stream",
     "text": [
      "Suicides per months : \n",
      "{'January': 5220, 'February': 4732, 'March': 5309, 'April': 5438, 'May': 5506, 'June': 5367, 'July': 5514, 'August': 5421, 'September': 5343, 'October': 5256, 'November': 5086, 'December': 4983}\n",
      "Homicides per months : \n",
      "{'March': 2780, 'April': 2845, 'June': 3130, 'July': 3269, 'August': 3125, 'September': 2966, 'October': 2968, 'December': 3191, 'January': 2829, 'February': 2178, 'May': 2976, 'November': 2919}\n",
      "Accidents per months : \n",
      "{'February': 127, 'July': 149, 'August': 164, 'September': 118, 'December': 179, 'January': 152, 'March': 134, 'April': 98, 'May': 115, 'November': 160, 'October': 131, 'June': 112}\n"
     ]
    }
   ],
   "source": [
    "suicide_month = {}\n",
    "homicide_month = {}\n",
    "accident_month = {}\n",
    "\n",
    "months = {'01' : \"January\", '02' : \"February\", '03' : \"March\", '04' : \"April\", '05' : \"May\", '06' : \"June\", '07' : \"July\", '08' : \"August\", '09' : \"September\", '10' : \"October\", '11' : \"November\", '12' : \"December\"}\n",
    "\n",
    "\n",
    "for row in guns:\n",
    "    month = months[row[2]]\n",
    "    death_type = row[3]\n",
    "    if death_type == 'Suicide':\n",
    "        if month not in suicide_month:\n",
    "            suicide_month[month] =0\n",
    "        suicide_month[month] +=1\n",
    "    elif death_type == 'Accidental':\n",
    "        if month not in accident_month:\n",
    "            accident_month[month] =0\n",
    "        accident_month[month] +=1\n",
    "    elif death_type == 'Homicide':\n",
    "        if month not in homicide_month:\n",
    "            homicide_month[month] =0\n",
    "        homicide_month[month] +=1\n",
    "        \n",
    "        \n",
    "print('Suicides per months : \\n' + str(suicide_month))\n",
    "print('Homicides per months : \\n' +str(homicide_month))\n",
    "print('Accidents per months : \\n' + str(accident_month))"
   ]
  },
  {
   "cell_type": "markdown",
   "metadata": {},
   "source": [
    "I would have expected more suicides in december/january due to loneliness in holydays than as seen in our data.\n",
    "It seems that the summer is more comfortable to end your days.\n",
    "\n",
    "Same things for homicide, except for a pyke in december, summer's months are more deadly.\n",
    "\n",
    "The tendances are different concerning the accidents, it seems more random (accidental indeed) but we can see that less accidents occurs in april, may, june and september."
   ]
  },
  {
   "cell_type": "markdown",
   "metadata": {},
   "source": [
    "# Back to the project Udemy"
   ]
  },
  {
   "cell_type": "markdown",
   "metadata": {},
   "source": [
    "## Dataset population"
   ]
  },
  {
   "cell_type": "code",
   "execution_count": 69,
   "metadata": {},
   "outputs": [],
   "source": [
    "file_2 = csv.reader(open('census.csv','r'))"
   ]
  },
  {
   "cell_type": "code",
   "execution_count": 70,
   "metadata": {},
   "outputs": [],
   "source": [
    "census = list(file_2)"
   ]
  },
  {
   "cell_type": "code",
   "execution_count": 71,
   "metadata": {},
   "outputs": [
    {
     "data": {
      "text/plain": [
       "[['Id',\n",
       "  'Year',\n",
       "  'Id',\n",
       "  'Sex',\n",
       "  'Id',\n",
       "  'Hispanic Origin',\n",
       "  'Id',\n",
       "  'Id2',\n",
       "  'Geography',\n",
       "  'Total',\n",
       "  'Race Alone - White',\n",
       "  'Race Alone - Hispanic',\n",
       "  'Race Alone - Black or African American',\n",
       "  'Race Alone - American Indian and Alaska Native',\n",
       "  'Race Alone - Asian',\n",
       "  'Race Alone - Native Hawaiian and Other Pacific Islander',\n",
       "  'Two or More Races'],\n",
       " ['cen42010',\n",
       "  'April 1, 2010 Census',\n",
       "  'totsex',\n",
       "  'Both Sexes',\n",
       "  'tothisp',\n",
       "  'Total',\n",
       "  '0100000US',\n",
       "  '',\n",
       "  'United States',\n",
       "  '308745538',\n",
       "  '197318956',\n",
       "  '44618105',\n",
       "  '40250635',\n",
       "  '3739506',\n",
       "  '15159516',\n",
       "  '674625',\n",
       "  '6984195']]"
      ]
     },
     "execution_count": 71,
     "metadata": {},
     "output_type": "execute_result"
    }
   ],
   "source": [
    "census"
   ]
  },
  {
   "cell_type": "markdown",
   "metadata": {},
   "source": [
    "### Calculate the ratio deaths/origins"
   ]
  },
  {
   "cell_type": "code",
   "execution_count": 74,
   "metadata": {},
   "outputs": [
    {
     "name": "stdout",
     "output_type": "stream",
     "text": [
      "{'Asian/Pacific Islander': 8.374309664161762, 'White': 33.56849303419181, 'Native American/Native Alaskan': 24.521955573811088, 'Black': 57.8773477735196, 'Hispanic': 20.220491210910907}\n"
     ]
    }
   ],
   "source": [
    "mapping = {'Asian/Pacific Islander': 15159516 + 674625,\n",
    "           'Black' : 40250635,\n",
    "           'Native American/Native Alaskan' : 3739506,\n",
    "           'Hispanic': 44618105,\n",
    "           'White' : 197318956\n",
    "          }\n",
    "ratio = {}\n",
    "\n",
    "for k,v in origin_counts.items():\n",
    "    ratio[k] = (v / mapping[k]) * 100000\n",
    "print(ratio)"
   ]
  },
  {
   "cell_type": "markdown",
   "metadata": {},
   "source": [
    "### Filter by homicide"
   ]
  },
  {
   "cell_type": "code",
   "execution_count": 81,
   "metadata": {},
   "outputs": [],
   "source": [
    "intents = [row[3] for row in guns]\n",
    "races = [row[7] for row in guns]"
   ]
  },
  {
   "cell_type": "code",
   "execution_count": 85,
   "metadata": {},
   "outputs": [
    {
     "name": "stdout",
     "output_type": "stream",
     "text": [
      "{'Asian/Pacific Islander': 3.530346230970155, 'White': 4.6356417981453335, 'Native American/Native Alaskan': 8.717729026240365, 'Black': 48.471284987180944, 'Hispanic': 12.627161104219914}\n"
     ]
    }
   ],
   "source": [
    "homicides_counts = {}\n",
    "for i, race in enumerate(races):\n",
    "    if race not in homicides_counts:\n",
    "        homicides_counts[race] = 0\n",
    "    if intents[i] == 'Homicide':\n",
    "        homicides_counts[race] += 1\n",
    "\n",
    "homicide_ratio = {}\n",
    "for k, v in homicides_counts.items():\n",
    "    homicide_ratio[k] = (v / mapping[k]) * 100000\n",
    "\n",
    "print(homicide_ratio)"
   ]
  },
  {
   "cell_type": "code",
   "execution_count": null,
   "metadata": {},
   "outputs": [],
   "source": []
  }
 ],
 "metadata": {
  "kernelspec": {
   "display_name": "Python 3",
   "language": "python",
   "name": "python3"
  },
  "language_info": {
   "codemirror_mode": {
    "name": "ipython",
    "version": 3
   },
   "file_extension": ".py",
   "mimetype": "text/x-python",
   "name": "python",
   "nbconvert_exporter": "python",
   "pygments_lexer": "ipython3",
   "version": "3.6.5"
  }
 },
 "nbformat": 4,
 "nbformat_minor": 2
}
