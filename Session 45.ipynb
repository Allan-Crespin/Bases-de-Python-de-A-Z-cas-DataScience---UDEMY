{
 "cells": [
  {
   "cell_type": "markdown",
   "metadata": {},
   "source": [
    "# Fonctions : Améliorations et Erreurs\n",
    "## Fonctions avec plusieurs chemins d'accès"
   ]
  },
  {
   "cell_type": "code",
   "execution_count": 1,
   "metadata": {},
   "outputs": [
    {
     "data": {
      "text/plain": [
       "'jeune'"
      ]
     },
     "execution_count": 1,
     "metadata": {},
     "output_type": "execute_result"
    }
   ],
   "source": [
    "def ton_age(age):\n",
    "    if age >= 60:\n",
    "        return('agé')\n",
    "    else:\n",
    "        return('jeune')\n",
    "ton_age(50)"
   ]
  },
  {
   "cell_type": "code",
   "execution_count": 2,
   "metadata": {},
   "outputs": [
    {
     "data": {
      "text/plain": [
       "'agé'"
      ]
     },
     "execution_count": 2,
     "metadata": {},
     "output_type": "execute_result"
    }
   ],
   "source": [
    "ton_age(70)"
   ]
  },
  {
   "cell_type": "code",
   "execution_count": 6,
   "metadata": {},
   "outputs": [
    {
     "data": {
      "text/plain": [
       "'agé'"
      ]
     },
     "execution_count": 6,
     "metadata": {},
     "output_type": "execute_result"
    }
   ],
   "source": [
    "def est_agé(age):\n",
    "    if age >=60:\n",
    "        return('agé')\n",
    "def est_jeune(age):\n",
    "    if age < 60:\n",
    "        return('jeune')\n",
    "    \n",
    "est_agé(70)\n",
    "#est_agé(50)\n",
    "#est_jeune(50)"
   ]
  },
  {
   "cell_type": "markdown",
   "metadata": {},
   "source": [
    "## Les arguments\n"
   ]
  },
  {
   "cell_type": "code",
   "execution_count": 8,
   "metadata": {},
   "outputs": [
    {
     "ename": "IndentationError",
     "evalue": "expected an indented block (<ipython-input-8-b515bc22fb56>, line 3)",
     "output_type": "error",
     "traceback": [
      "\u001b[0;36m  File \u001b[0;32m\"<ipython-input-8-b515bc22fb56>\"\u001b[0;36m, line \u001b[0;32m3\u001b[0m\n\u001b[0;31m    tokenized_text = clean_text(string, special_caracters, replacement_string)\u001b[0m\n\u001b[0m                 ^\u001b[0m\n\u001b[0;31mIndentationError\u001b[0m\u001b[0;31m:\u001b[0m expected an indented block\n"
     ]
    }
   ],
   "source": [
    "def tokenized(string, special_caracters, replacement_string, clean = False):\n",
    "    if clean:\n",
    "    tokenized_text = clean_text(string, special_caracters, replacement_string)\n",
    "    tokenized_text = tokenized_text.split(' ')\n",
    "    return(tokenized_text)\n",
    "\n",
    "def clean_text(string, special_caracters, replacement_string):\n",
    "    cleaned_text = string\n",
    "    for char in special_caracters:\n",
    "        cleaned_text = cleaned_text.replace(char, replacement_string)\n",
    "    cleaned_text = cleaned_text.lower()\n",
    "    return(cleaned_text)\n",
    "\n",
    "\n",
    "\n"
   ]
  },
  {
   "cell_type": "code",
   "execution_count": null,
   "metadata": {},
   "outputs": [],
   "source": []
  }
 ],
 "metadata": {
  "kernelspec": {
   "display_name": "Python 3",
   "language": "python",
   "name": "python3"
  },
  "language_info": {
   "codemirror_mode": {
    "name": "ipython",
    "version": 3
   },
   "file_extension": ".py",
   "mimetype": "text/x-python",
   "name": "python",
   "nbconvert_exporter": "python",
   "pygments_lexer": "ipython3",
   "version": "3.6.5"
  }
 },
 "nbformat": 4,
 "nbformat_minor": 2
}
