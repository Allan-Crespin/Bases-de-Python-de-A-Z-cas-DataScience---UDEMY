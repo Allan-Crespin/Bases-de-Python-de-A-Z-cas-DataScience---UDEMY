{
 "cells": [
  {
   "cell_type": "markdown",
   "metadata": {},
   "source": [
    "# Challenge 2\n",
    "## Working with the NFL suspension dataset"
   ]
  },
  {
   "cell_type": "markdown",
   "metadata": {},
   "source": [
    "### Import, read the file"
   ]
  },
  {
   "cell_type": "code",
   "execution_count": 49,
   "metadata": {},
   "outputs": [
    {
     "name": "stdout",
     "output_type": "stream",
     "text": [
      "[['F. Davis', 'WAS', 'Indef.', 'Substance abuse, repeated offense', 'Marijuana-related', '2014', 'http://www.cbssports.com/nfl/eye-on-football/24448694/redskins-te-fred-davis-suspended-Indefiniteinitely-by-nfl'], ['J. Blackmon', 'JAX', 'Indef.', 'Substance abuse, repeated offense', '', '2014', 'http://espn.go.com/nfl/story/_/id/11257934/justin-blackmon-jacksonville-jaguars-arrested-marijuana-possession'], ['L. Brazill', 'IND', 'Indef.', 'Substance abuse, repeated offense', '', '2014', 'http://www.nfl.com/news/story/0ap2000000364622/article/lavon-brazill-released-by-colts-in-wake-of-suspension'], ['T. Jackson', 'WAS', 'Indef.', 'Substance abuse, repeated offense', '', '2014', 'http://www.nfl.com/news/story/0ap2000000364087/article/tanard-jackson-suspended-Indefiniteinitely-by-nfl'], ['M. Hapes', 'NYG', 'Indef.', 'Personal conduct', 'Gambling-related', '1946', 'http://espn.go.com/blog/nflnation/tag/_/name/frank-filchock'], ['R. Rice', 'BAL', 'Indef.', 'Personal conduct', 'Domestic violence', '2014', 'http://espn.go.com/new-york/nfl/story/_/id/11489134/baltimore-ravens-cut-ray-rice-new-video-surfaces'], ['F. Filchock', 'NYG', '36', 'Personal conduct', 'Gambling-related', '1947', 'http://espn.go.com/blog/nflnation/tag/_/name/frank-filchock'], ['J. Jolly', 'GB', '32', 'Substance abuse, repeated offense', 'Arrest, felony possession of codeine', '2010', 'http://www.nfl.com/news/story/0ap1000000145928/article/johnny-jolly-reinstated-by-nfl-after-Indefiniteinite-suspension'], ['O. Thurman', 'CIN', '32', 'Substance abuse, repeated offense', '', '2008', 'http://www.nfl.com/news/story/09000d5d80864644/article/bengals-release-reinstated-thurman-after-twoyear-suspension'], ['A. Jones', 'TEN', '20', 'Personal conduct', 'Multiple arrests', '2007', 'http://sports.espn.go.com/nfl/news/story?id=2832015'], ['A. Schlichter', 'IND', '16', 'Personal conduct', 'Gambling-related', '1983', 'http://espn.go.com/blog/nflnation/tag/_/name/frank-filchock'], ['D. Stallworth', 'NE', '16', 'Personal conduct', 'DUI manslaughter', '2009', 'http://espn.go.com/blog/nflnation/tag/_/name/frank-filchock'], ['W. Bryant', 'ARI', '16', 'Substance abuse, repeated offense', '', '2005', 'http://www.azcentral.com/sports/cardinals/articles/2009/05/13/20090513cards0514.html'], ['J. Evans', 'TEN', '16', 'Substance abuse, repeated offense', '', '2000', 'http://articles.philly.com/2000-06-21/sports/25602268_1_linebacker-george-koonce-linebacker-na-il-diggs-draft'], ['T. Jackson', 'TB', '16', 'Substance abuse, repeated offense', '', '2012', 'http://www.nfl.com/news/story/0ap2000000364087/article/tanard-jackson-suspended-Indefiniteinitely-by-nfl'], ['D. Washington', 'ARI', '16', 'Substance abuse, repeated offense', 'Marijuana-related', '2014', 'http://www.nfl.com/news/story/0ap2000000354739/article/daryl-washington-suspended-for-at-least-one-year'], ['B. Williams', 'PHI', '16', 'Substance abuse, repeated offense', 'Marijuana-related', '2001', 'http://articles.philly.com/2001-04-05/sports/25330303_1_training-camp-eagles-marijuana'], ['R. Williams', 'MIA', '16', 'Substance abuse, repeated offense', '', '2006', 'http://sports.espn.go.com/nfl/news/story?id=2421774'], ['S. Wilson', 'CIN', '16', 'Substance abuse, repeated offense', 'Cocaine-related', '1989', 'http://www.enquirer.com/editions/1999/01/31/spt_hard_fall_for_man.html'], ['J. Gordon', 'CLE', '16', 'Substance abuse, repeated offense', 'Marijuana-related', '2014', 'http://espn.go.com/nfl/story/_/id/11418388/josh-gordon-cleveland-browns-suspended-one-year'], ['O. Smith', 'MIN', '16', 'Substance abuse, repeated offense', 'Found with dried urine and \"The Original Whizzinator\"', '2005', 'http://sports.espn.go.com/nfl/news/story?id=2079032'], ['K. Robinson', 'GB', '16', 'Substance abuse, repeated offense', '', '2006', 'http://sports.espn.go.com/nfl/news/story?id=2629860'], ['P. Hornung', 'GB', '14', 'Personal conduct', 'Gambling-related', '   ', 'http://espn.go.com/blog/nflnation/tag/_/name/frank-filchock'], ['A. Karras', 'DET', '14', 'Personal conduct', 'Gambling-related', '1963', 'http://www.usatoday.com/story/sports/nfl/lions/2012/10/10/alex-karras-obituary-detroit-lions/1623419/'], ['J. Brent', 'DAL', '10', 'Personal conduct', 'DUI manslaughter', '2014', 'http://www.nfl.com/news/story/0ap3000000388413/article/dallas-cowboys-josh-brent-suspended-10-weeks'], ['D. Evans', 'SEA', '8', 'PEDs, repeated offense', '', '2013', 'http://www.nfl.com/news/story/0ap1000000236542/article/dequin-evans-suspended-eight-bengals-games-for-peds'], ['J. Ferguson', 'FREE', '8', 'PEDs, repeated offense', '', '2010', 'http://sports.espn.go.com/nfl/news/story?id=4973457'], ['A. Jackson', 'BAL', '8', 'PEDs, repeated offense', '', '2013', 'http://www.nfl.com/news/story/0ap1000000225102/article/ravens-asa-jackson-banned-8-games-for-violating-ped-policy'], ['W. Saunders', 'IND', '8', 'PEDs, repeated offense', '', '2013', 'http://espn.go.com/nfl/story/_/id/9509539/indianapolis-colts-release-weslye-saunders'], ['H. Thomas', 'FREE', '8', 'PEDs, repeated offense', '', '2010', 'http://profootballtalk.nbcsports.com/2010/07/01/hollis-thomas-career-could-end-with-suspension/'], ['R. Tucker', 'CLE', '8', 'PEDs, repeated offense', '', '2010', 'http://profootballtalk.nbcsports.com/2010/03/07/ryan-tucker-jason-ferguson-suspended-eight-games-each/'], ['C. Henry', 'CIN', '8', 'Personal conduct', 'Multiple arrests', '2007', 'http://sports.espn.go.com/nfl/news/story?id=2832015'], ['T. Johnson', 'BAL', '8', 'Personal conduct', 'Arrest, possession of weapon', '2006', 'http://profootballtalk.nbcsports.com/2014/06/24/artist-formerly-known-as-tank-johnson-friends-with-roger-goodell/'], ['J. Blackmon', 'JAX', '8', 'Substance abuse, repeated offense', '', '2013', 'http://www.cbssports.com/nfl/eye-on-football/24171316/jaguars-wr-justin-blackmon-suspended-for-the-rest-of-2013-season'], ['T. Couch', 'JAX', '6', 'PEDs', '', '2007', 'http://www.nytimes.com/2007/10/05/sports/football/05nfl.html'], ['K. Lang', 'DEN', '6', 'PEDs', '', '2007', 'http://www.nytimes.com/2007/10/05/sports/football/05nfl.html'], ['R. McBean', 'DEN', '6', 'PEDs', 'Alleged \"non-human\" urine in system', '2012', 'http://espn.go.com/nfl/story/_/id/7667289/denver-broncos-dj-williams-ryan-mcbean-virgil-green-suspended'], ['D.J. Williams', 'DEN', '6', 'PEDs', 'Alleged \"non-human\" urine in system', '2012', 'http://espn.go.com/nfl/story/_/id/7667289/denver-broncos-dj-williams-ryan-mcbean-virgil-green-suspended'], ['W. Hill', 'NYG', '6', 'Substance abuse, repeated offense', '', '2014', 'http://espn.go.com/new-york/nfl/story/_/id/11007693/will-hill-new-york-giants-suspended-six-games-violating-nfl-substance-abuse-policy'], ['A. Haynesworth', 'TEN', '5', 'In-game violence', 'Stomping on player', '2006', 'http://sports.espn.go.com/nfl/news/story?id=2610577'], ['B. Sochia', 'MIA', '5', 'PEDs', '', '1990', 'http://articles.sun-sentinel.com/1990-08-24/sports/9002100425_1_alfred-oglesby-shula-brian-sochia'], ['T. Pryor', 'OAK', '5', 'Personal conduct', 'Improper gifts while in college', '2011', 'http://espn.go.com/nfl/story/_/id/7040047/nfl-upholds-terrelle-pryor-5-game-ban-cites-integrity'], ['M. Ariey', 'GB', '4', 'PEDs', '', '1989', 'http://www.utsandiego.com/uniontrib/20080921/news_1s21nfl89.html'], ['O. Ayanbadejo', 'CHI', '4', 'PEDs', '', '2007', 'http://sports.espn.go.com/nfl/news/story?id=2967677'], ['S. Bailey', 'STL', '4', 'PEDs', '', '2014', 'http://www.nfl.com/news/story/0ap2000000349785/article/st-louis-rams-stedman-bailey-suspended-four-games'], ['A. Barbre', 'CAR', '4', 'PEDs', '', '2012', 'http://seattletimes.com/html/localnews/2018272778_apfbnseahawksbarbresuspended.html'], ['T. Bennett', 'DET', '4', 'PEDs', '', '2001', 'http://articles.latimes.com/2001/dec/15/sports/sp-15083'], ['J. Black', 'WAS', '4', 'PEDs', '', '2012', 'http://www.nfl.com/news/story/0ap1000000113061/article/jordan-black-of-redskins-suspended-four-games-for-peds'], ['D. Blackstock', 'CIN', '4', 'PEDs', '', '2008', 'http://sports.espn.go.com/nfl/news/story?id=3631111'], ['B. Bolden', 'BAL', '4', 'PEDs', '', '2012', 'http://www.nfl.com/news/story/0ap1000000092510/article/brandon-bolden-suspended-for-violating-drug-policy'], ['D. Boston', 'MIA', '4', 'PEDs', '', '2004', 'http://sports.espn.go.com/nfl/news/story?id=1939250'], ['D. Bowe', 'KC', '4', 'PEDs', '', '2009', 'http://sports.espn.go.com/nfl/news/story?id=4663877'], ['D. Brown', 'HOU', '4', 'PEDs', '', '2012', 'http://sports.espn.go.com/nfl/news/story?id=5600928'], ['G. Brown', 'WAS', '4', 'PEDs', '', '2014', 'http://www.nfl.com/news/story/0ap2000000051195/article/garrett-brown-of-san-diego-chargers-suspended-four-games'], ['R. Buchanan', 'JAX', '4', 'PEDs', '', '2002', 'http://a.espncdn.com/nfl/news/2002/0911/1430323.html'], ['B. Buckner', 'CAR', '4', 'PEDs', '', '2003', 'http://a.espncdn.com/nfl/columns/pasquarelli_len/1455668.html'], ['T. Burse', 'SEA', '4', 'PEDs', '', '1989', 'http://articles.chicagotribune.com/1989-08-30/sports/8901090097_1_steroid-drug-policy-league-spokesman-joe-browne'], ['L. Bush', 'KC', '4', 'PEDs', '', '2002', 'http://a.espncdn.com/nfl/columns/pasquarelli_len/1457788.html'], ['B. Chamberlain', 'MIN', '4', 'PEDs', '', '2003', 'http://a.espncdn.com/nfl/news/2003/0711/1579603.html'], ['J. Chatman', 'NYJ', '4', 'PEDs', '', '2012', 'http://www.nfl.com/news/story/09000d5d80a65c4c/article/chatman-suspended-four-games-for-violating-nfls-steroids-policy'], ['M. Cloud', 'KC', '4', 'PEDs', '', '2003', 'http://a.espncdn.com/nfl/columns/pasquarelli_len/1529903.html'], ['J. Cooper', 'OAK', '4', 'PEDs', '', '2007', 'http://sports.espn.go.com/nfl/news/story?id=2949591'], ['S. Cooper', 'SD', '4', 'PEDs', '', '2008', 'http://sports.espn.go.com/nfl/news/story?id=3348671'], ['J. Cunningham', 'NE', '4', 'PEDs', '', '2012', 'http://espn.go.com/boston/nfl/story/_/id/8679955/jermaine-cunningham-new-england-patriots-suspended-four-games-violating-nfl-policy-performance-enhancing-substances'], ['B. Cushing', 'HOU', '4', 'PEDs', '', '2010', 'http://sports.espn.go.com/nfl/news/story?id=5172060'], ['S. Davis', 'ARI', '4', 'PEDs', '', '1997', 'http://www.apnewsarchive.com/1997/Falcons-guard-Scott-Davis-suspended-by-NFL-for-steroid-abuse/id-1e82e1a0780f24c6559a167118382f28'], ['T. Doctor', 'BUF', '4', 'PEDs', '', '1989', 'http://www.utsandiego.com/sports/nfl/20080921-9999-1s21list.html'], ['S. Doctor', 'BUF', '4', 'PEDs', '', '1989', 'http://www.nytimes.com/1989/08/30/sports/nfl-bans-15-for-drugs-or-steroids.html'], ['M. Douglass', 'DET', '4', 'PEDs', '', '1989', 'http://www.utsandiego.com/uniontrib/20080921/news_1s21nfl89.html'], ['J. Dunbar', 'STL', '4', 'PEDs', '', '2013', 'http://www.nfl.com/news/story/0ap1000000229913/article/st-louis-rams-jolonn-dunbar-suspended-four-games'], ['R. Edwards', 'MIN', '4', 'PEDs', '', '2007', 'http://www.twincities.com/ci_7641964?source=rss'], ['B. Eldridge', 'STL', '4', 'PEDs', '', '2012', 'http://www.nfl.com/news/story/09000d5d82a4a506/article/brody-eldridge-st-louis-rams-te-suspended-four-games'], ['L. Flowers', 'DEN', '4', 'PEDs', '', '2004', 'http://sports.espn.go.com/nfl/news/story?id=1585992'], ['E. Gant', 'CIN', '4', 'PEDs', '', '2010', 'http://blog.azcardinals.com/2010/06/21/gant-suspended-four-games/'], ['D. Graham', 'HOU', '4', 'PEDs', '', '2002', 'http://www.nytimes.com/2002/12/19/sports/nfl-texans-lineman-suspended.html'], ['L. Grant', 'FREE', '4', 'PEDs', '', '2013', 'http://www.nfl.com/news/story/0ap1000000161912/article/larry-grant-suspended-four-games-for-violating-nfl-drug-policy'], ['V. Green', 'SD', '4', 'PEDs', '', '2012', 'http://espn.go.com/nfl/story/_/id/7667289/denver-broncos-dj-williams-ryan-mcbean-virgil-green-suspended'], ['S. Gregory', 'NYJ', '4', 'PEDs', '', '2010', 'http://sports.espn.go.com/nfl/news/story?id=5648428'], ['C. Griffin', 'WAS', '4', 'PEDs', '', '2012', 'http://espn.go.com/nfl/story/_/id/8709862/cedric-griffin-washington-redskins-suspended-four-games'], ['W. Guy', 'SEA', '4', 'PEDs', '', '2012', 'http://www.nfl.com/news/story/0ap1000000098505/article/winston-guy-of-seahawks-suspended-for-illegal-substances'], ['J. Haden', 'CLE', '4', 'PEDs', '', '2012', 'http://www.nfl.com/news/story/0ap1000000060490/article/joe-haden-of-cleveland-browns-suspended-four-games'], ['A. Hall', 'TEN', '4', 'PEDs', '', '2011', 'http://espn.go.com/nfl/story/_/id/6927311/tennessee-titans-ahmard-hall-suspended-4-games-nfl'], ['J. Hanson', 'PHI', '4', 'PEDs', '', '2009', 'http://sports.espn.go.com/nfl/news/story?id=4645055'], ['J. Hawley', 'ATL', '4', 'PEDs', '', '2012', 'http://www.nfl.com/news/story/0ap1000000097773/article/joe-hawley-of-atlanta-falcons-suspended-four-games-by-nfl'], ['K. Henderson', 'SF', '4', 'PEDs', '', '1989', 'http://www.nytimes.com/1989/08/30/sports/nfl-bans-15-for-drugs-or-steroids.html'], ['C. Henry', 'TEN', '4', 'PEDs', '', '2007', 'http://www.utsandiego.com/sports/nfl/20080921-9999-1s21list.html'], ['W. Hill', 'NYG', '4', 'PEDs', '', '2012', 'http://www.nfl.com/news/story/0ap1000000078540/article/will-hill-suspended-by-nfl-for-violating-ped-policy'], ['A. Holmes', 'OAK', '4', 'PEDs', '', '2013', 'http://www.cbssports.com/nfl/eye-on-football/22915004/raiders-wr-andre-holmes-suspended-for-ped-violation'], ['B. Irvin', 'DET', '4', 'PEDs', '', '2013', 'http://espn.go.com/nfl/story/_/id/9287069/bruce-irvin-seattle-seahawks-suspended-four-games'], ['A. Jackson', 'BAL', '4', 'PEDs', '', '2012', 'http://www.nfl.com/news/story/0ap1000000225102/article/ravens-asa-jackson-banned-8-games-for-violating-ped-policy'], ['R. James', 'ATL', '4', 'PEDs', '', '2010', 'http://sports.espn.go.com/nfl/news/story?id=5364259'], ['M. Jaworski', 'BUF', '4', 'PEDs', '', '1989', 'http://www.nytimes.com/1989/08/30/sports/nfl-bans-15-for-drugs-or-steroids.html'], ['J. Jenkins', 'WAS', '4', 'PEDs', '', '2013', 'http://www.nfl.com/news/story/0ap1000000221583/article/redskins-jarvis-jenkins-suspended-4-games-for-peds'], ['T. Jervey', 'SF', '4', 'PEDs', '', '1999', 'http://www.sfgate.com/sports/article/49ers-Notebook-Jervey-Suspended-for-Steroid-Use-2901850.php'], ['L. Johnson', 'PHI', '4', 'PEDs', '', '2014', 'http://www.nfl.com/news/story/0ap2000000367649/article/eagles-lane-johnson-suspended-four-games-for-peds'], ['D. Jordan', 'MIA', '4', 'PEDs', '', '2014', 'http://www.nfl.com/news/story/0ap2000000363402/article/dion-jordan-suspended-four-games-for-ped-violation'], ['J. Kennedy', 'NYG', '4', 'PEDs', '', '2011', 'http://espn.go.com/new-york/nfl/story/_/id/7089792/new-york-giants-dt-jimmy-kennedy-suspended-nfl'], ['V. Kirk', 'STL', '4', 'PEDs', '', '1989', 'http://articles.latimes.com/1989-08-30/sports/sp-1284_1_nfl-suspends'], ['J. Knott', 'PHI', '4', 'PEDs', '', '2014', 'http://www.nfl.com/news/story/0ap2000000339592/article/jake-knott-suspended-for-violating-substance-abuse-policy'], ['L. Lawton', 'OAK', '4', 'PEDs', '', '2009', 'http://sports.espn.go.com/nfl/news/story?id=4771154'], ['M. Lehr', 'ATL', '4', 'PEDs', '', '2006', 'http://sports.espn.go.com/nfl/news/story?id=2629991'], ['T. Lewis', 'WAS', '4', 'PEDs', '', '2011', 'http://www.washingtonpost.com/blogs/football-insider/post/report-redskins-trent-williams-and-fred-davis-to-be-suspended-for-four-games/2011/12/04/gIQAZJ6tSO_blog.html'], ['D. Love', 'MIN', '4', 'PEDs', '', '2013', 'http://www.cbssports.com/nfl/eye-on-football/22974075/vikings-ol-demarcus-love-suspended-for-ped-violation'], ['D. Lutui', 'TEN', '4', 'PEDs', '', '2013', 'http://www.nfl.com/news/story/0ap1000000150698/article/deuce-lutui-suspended-by-nfl-for-drug-violation'], ['A. Madise', 'DEN', '4', 'PEDs', '', '2005', 'http://sports.espn.go.com/nfl/news/story?id=1974527'], ['R. Mathis', 'IND', '4', 'PEDs', '', '2014', 'http://www.nfl.com/news/story/0ap2000000350988/article/colts-robert-mathis-suspended-four-games-for-ped'], ['G. McRath', 'TEN', '4', 'PEDs', '', '2010', 'http://sports.espn.go.com/nfl/news/story?id=5285379'], ['S. Merriman', 'SD', '4', 'PEDs', '', '2006', 'http://sports.espn.go.com/nfl/news/story?id=2635475'], ['G. Miller', 'CHI', '4', 'PEDs', '', '2013', 'http://www.nfl.com/news/story/0ap1000000209177/article/chicago-bears-gabe-miller-evan-rodriguez-apologize'], ['J. Miller', 'CHI', '4', 'PEDs', '', '1999', 'http://www.nytimes.com/1999/12/02/sports/pro-football-bears-lose-miller-to-steroid-suspension.html'], ['N. Miller', 'STL', '4', 'PEDs', '', '2012', 'http://profootball.scout.com/story/1159088-nick-miller-suspended-four-games'], ['D. Moch', 'CIN', '4', 'PEDs', '', '2012', 'http://espn.go.com/nfl/story/_/id/8048956/dontay-moch-cincinnati-bengals-suspended-four-games-peds'], ['J. Moffitt', 'CLE', '4', 'PEDs', '', '2011', 'http://seattletimes.com/html/seahawksblog/2016949836_seahawksrookiejohnmoffittsuspendedforperformanceenhancingdrugs.html'], ['E. Moore', 'NYG', '4', 'PEDs', '', '1993', 'http://www.nytimes.com/1993/07/30/sports/pro-football-giants-moore-faces-ban-by-nfl.html'], ['S. Morris', 'MIA', '4', 'PEDs', '', '2006', 'http://sports.espn.go.com/nfl/news/story?id=2568282'], ['M. Neal', 'GB', '4', 'PEDs', '', '2012', 'http://espn.go.com/nfl/story/_/id/7682945/nfl-suspends-mike-neal-green-bay-packers-1st-four-games'], ['S. Nealy', 'MIN', '4', 'PEDs', '', '2014', 'http://espn.go.com/nfl/story/_/id/11204290/spencer-nealy-minnesota-vikings-suspended-four-games-ped-use'], ['A. Neblett', 'CAR', '4', 'PEDs', '', '2012', 'http://www.nfl.com/news/story/09000d5d82aa5c20/article/andre-neblett-suspended-four-games-for-ped-violation'], ['K. Newman', 'ATL', '4', 'PEDs', '', '2003', 'http://sports.espn.go.com/espn/wire?id=1606334'], ['A. Odom', 'CIN', '4', 'PEDs', '', '2010', 'http://sports.espn.go.com/nfl/news/story?id=5687593'], ['C. Pace', 'NYJ', '4', 'PEDs', '', '2009', 'http://sports.espn.go.com/nfl/news/story?id=4303126'], ['J. Peppers', 'CAR', '4', 'PEDs', '', '2002', 'http://www.nytimes.com/2002/12/04/sports/pro-football-peppers-to-serve-four-game-suspension.html'], ['K. Peterson', 'DEN', '4', 'PEDs', '', '2007', 'http://www.denverpost.com/ci_6314165'], ['L. Petitgout', 'TB', '4', 'PEDs', '', '2008', 'http://tbo.com/sports/sports/2008/aug/20/sp-petitgout-violated-nfl-steroids-policy-ar-136563/'], ['A. Pettis', 'STL', '4', 'PEDs', '', '2014', 'http://www.foxsports.com/nfl/story/St-Louis-Rams-wide-receiver-Austin-Pettis-suspended-four-games-for-NFL-drug-policy-violation-122111?gt1=39002'], ['A. Pinnock', 'SD', '4', 'PEDs', '', '2004', 'http://www.utsandiego.com/news/2004/Nov/10/chargers-fullback-andrew-pinnock-suspended-for/'], ['R. Putzier', 'SF', '4', 'PEDs', '', '1989', 'http://articles.latimes.com/1989-08-30/sports/sp-1284_1_nfl-suspends'], ['R. Razzano', 'TB', '4', 'PEDs', '', '2005', 'http://sports.espn.go.com/espn/wire?section=nfl&id=2163692'], ['L. Reynolds', 'JAX', '4', 'PEDs', '', '2013', 'http://espn.go.com/nfl/story/_/id/9967595/laroy-reynolds-jacksonville-jaguars-suspended-4-games-positive-test'], ['G. Robinson', 'ARI', '4', 'PEDs', '', '2012', 'http://profootballtalk.nbcsports.com/2012/09/22/gerell-robinson-gets-four-game-suspension/'], ['S. Rogers', 'DET', '4', 'PEDs', '', '2006', 'http://sports.espn.go.com/nfl/news/story?id=2630061'], ['T. Sash', 'NYG', '4', 'PEDs', '', '2012', 'http://espn.go.com/new-york/nfl/story/_/id/8219721/tyler-sash-new-york-giants-suspended-four-games'], ['T. Sauerbrun', 'DEN', '4', 'PEDs', '', '2006', 'http://sports.espn.go.com/nfl/news/story?id=2512355'], ['Q. Saulsberry', 'DEN', '4', 'PEDs', '', '2012', 'http://www.nfl.com/news/story/0ap1000000217875/article/quentin-saulsberry-of-denver-broncos-had-dui-arrest'], ['O. Scandrick', 'DAL', '4', 'PEDs', 'MDMA', '2014', 'http://espn.go.com/dallas/nfl/story/_/id/11341354/orlando-scandrick-dallas-cowboys-suspended-four-games-performance-enhancing-drugs'], ['S. Shanle', 'STL', '4', 'PEDs', '', '2003', 'http://www.utsandiego.com/sports/nfl/20080921-9999-1s21list.html'], ['D. Shelton', 'CHI', '4', 'PEDs', '', '2002', 'http://www.nytimes.com/2001/10/07/sports/pro-football-notebook-nfl-is-seeing-fewer-flaws-in-testing-players-for-drugs.html'], ['T.J. Slaughter', 'JAX', '4', 'PEDs', '', '2002', 'http://articles.orlandosentinel.com/2002-09-07/sports/0209070474_1_slaughter-coleman-tennessee-titans'], ['R. Solt', 'PHI', '4', 'PEDs', '', '1989', 'http://www.nytimes.com/1989/08/30/sports/nfl-bans-15-for-drugs-or-steroids.html'], ['B. Spikes', 'NE', '4', 'PEDs', '', '2010', 'http://sports.espn.go.com/boston/nfl/news/story?id=5906897'], ['S. Springs', 'SEA', '4', 'PEDs', '', '2001', 'http://articles.philly.com/2001-11-28/sports/25320203_1_seahawks-springs-lamar-chapman-browns-president-carmen-policy'], ['J. Steed', 'PIT', '4', 'PEDs', '', '1995', 'http://articles.chicagotribune.com/1995-10-24/sports/9510240320_1_nose-tackle-joel-steed-bernard-williams-nfl'], ['M. Stevens', 'PHI', '4', 'PEDs', '', '1997', 'http://articles.philly.com/2014-07-02/sports/51005838_1_lane-johnson-groveton-linebacker-jake-knott'], ['M. Stroud', 'JAX', '4', 'PEDs', '', '2007', 'http://sports.espn.go.com/nfl/news/story?id=3088185'], ['A. Talib', 'TB', '4', 'PEDs', '', '2012', 'http://www.nfl.com/news/story/0ap1000000079902/article/aqib-talib-of-buccaneers-suspended-four-games-for-adderall-use'], ['H. Taylor', 'CHI', '4', 'PEDs', '', '1999', 'http://www.nytimes.com/2001/10/07/sports/pro-football-notebook-nfl-is-seeing-fewer-flaws-in-testing-players-for-drugs.html'], ['H. Thomas', 'NO', '4', 'PEDs', '', '2006', 'http://sports.espn.go.com/nfl/news/story?id=2687451'], ['J. Thomas', 'IND', '4', 'PEDs', '', '2011', 'http://espn.go.com/nfl/story/_/id/7062953/indianapolis-colts-guard-jaime-thomas-banned-4-games-violating-steroid-policy'], ['R. Tucker', 'CLE', '4', 'PEDs', '', '2007', 'http://www.nfl.com/news/story/09000d5d8012fe77/article/browns-offensive-lineman-ryan-tucker-suspended-4-games-for-violating-nfl-steroid-policy'], ['K. Uecker', 'GB', '4', 'PEDs', '', '1989', 'http://www.nytimes.com/1989/08/30/sports/nfl-bans-15-for-drugs-or-steroids.html'], ['A. Ulmer', 'MIN', '4', 'PEDs', '', '1997', 'http://www.apnewsarchive.com/1997/Vikings-rookie-suspended-for-steroid-use/id-6fa45c120b20b6e4d035442c8a62da30'], ['J. Waddy', 'GB', '4', 'PEDs', '', '1998', 'http://a.espncdn.com/nfl/columns/pasquarelli_len/1403350.html'], ['J. Welbourn', 'KC', '4', 'PEDs', '', '2005', 'http://sports.espn.go.com/nfl/columns/story?columnist=pasquarelli_len&id=2150559'], ['L. West', 'NYG', '4', 'PEDs', '', '1999', 'http://static.espn.go.com/nfl/news/1999/1201/205894.html'], ['P. Wiggins', 'PIT', '4', 'PEDs', '', '1998', 'http://alb.merlinone.net/mweb/wmsql.wm.request?oneimage&imageid=5942417'], ['B. Williams', 'CIN', '4', 'PEDs', '', '2014', 'http://www.foxsports.com/nfl/story/Cincinnati-Bengals-Bobbie-Williams-suspension-substance-abuse-policy-090311?utm_source=feedburner&utm_medium=feed&utm_campaign=Feed%3A+foxsports%2FRSS%2FNFL+(FOXSports.com+News+for+NFL)'], ['K. Winslow', 'NYJ', '4', 'PEDs', '', '2013', 'http://www.nfl.com/news/story/0ap2000000260647/article/kellen-winslow-suspended-4-games-for-ped-violation'], ['E. Wright', 'TB', '4', 'PEDs', '', '2012', 'http://espn.go.com/nfl/story/_/id/8680228/eric-wright-tampa-bay-buccaneers-suspended-4-games'], ['F. Wycheck', 'WAS', '4', 'PEDs', '', '1994', 'http://articles.philly.com/1994-11-30/sports/25868967_1_frank-wycheck-steroids-nfl-policy'], ['T. Zbikowski', 'FREE', '4', 'PEDs', '', '2013', 'http://espn.go.com/nfl/story/_/id/9660103/nfl-suspends-free-agents-tom-zbikowski-brandon-mcdonald'], ['L. Ziemba', 'CAR', '4', 'PEDs', '', '2012', 'http://blogs.charlotte.com/panthers/2012/10/ziemba-suspended-4-games-for-violating-ped-policy.html'], ['W. Welker', 'DEN', '4', 'PEDs', '', '2014', 'http://www.usatoday.com/story/sports/nfl/broncos/2014/09/02/wes-welker-suspended-four-games-amphetamine-denver/14992795/'], ['J. Allen', 'KC', '4', 'Personal conduct', 'DUI arrest, multiple', '2007', 'http://sports.espn.go.com/nfl/news/story?id=2851494'], ['J. Cooper', 'CAR', '4', 'Personal conduct', 'DUI arrest, drugs', '2003', 'http://www.usatoday.com/sports/nfl/arrests/all/car/all/'], ['M. Goodson', 'NYJ', '4', 'Personal conduct', 'Arrest, possession of weapon and marijuana', '2013', 'http://espn.go.com/new-york/nfl/story/_/id/9603404/mike-goodson-new-york-jets-suspended-4-games'], ['C. Henry', 'CIN', '4', 'Personal conduct', 'Mulitple arrests', '2007', 'http://www.nfl.com/news/story/09000d5d80b58799/article/bengals-wr-henry-activated-after-serving-fourgame-suspension'], ['B. McKinnie', 'MIN', '4', 'Personal conduct', 'Accused of disorderly conduct, resisting arrest', '2008', 'http://sports.espn.go.com/nfl/news/story?id=3560135'], ['B. Roethlisberger', 'PIT', '4', 'Personal conduct', 'Sexual assault', '2012', 'http://www.nfl.com/news/story/09000d5d81a3eb23/article/goodell-reduces-roethlisbergers-suspension-to-four-games'], ['E. Warfield', 'KC', '4', 'Personal conduct', 'DUI arrest, multiple', '2005', 'http://sports.espn.go.com/nfl/columns/story?columnist=pasquarelli_len&id=2106473'], ['M. Prater', 'DEN', '4', 'Substance abuse', 'Alcohol-related', '2014', 'http://www.nfl.com/news/story/0ap3000000383065/article/broncos-matt-prater-will-be-suspended-four-games'], ['F. Alexander', 'HOU', '4', 'Substance abuse', '', '2014', 'http://espn.go.com/nfl/story/_/id/10873670/de-frank-alexander-carolina-panthers-suspended-four-games-violating-nfl-substance-abuse-policy'], ['J. Blackmon', 'JAX', '4', 'Substance abuse', '', '2013', 'http://thebiglead.com/2013/04/30/justin-blackmon-of-the-jaguars-suspended-for-4-games-for-violating-league-policy-on-substance-abuse/'], ['L. Brazill', 'IND', '4', 'Substance abuse', '', '2013', 'http://www.nfl.com/news/story/0ap1000000214428/article/lavon-brazill-suspended-for-violating-substance-policy'], ['B. Collins', 'MIA', '4', 'Substance abuse', '', '2013', 'http://www.nfl.com/news/story/0ap1000000214394/article/brandon-collins-banned-for-violating-substance-policy'], ['F. Davis', 'WAS', '4', 'Substance abuse', 'Marijuana-related', '2011', 'http://www.cbssports.com/nfl/eye-on-football/24448694/redskins-te-fred-davis-suspended-Indefiniteinitely-by-nfl'], ['J. Ferguson', 'NYJ', '4', 'Substance abuse', '', '1999', 'http://sports.espn.go.com/nfl/news/story?id=4973457'], ['W. Green', 'CLE', '4', 'Substance abuse', 'Marijuana-related', '2003', 'http://sports.espn.go.com/nfl/news/story?id=1665738'], ['R. Harrison', 'NE', '4', 'Substance abuse', '', '2007', 'http://sports.espn.go.com/nfl/news/story?id=2999994'], ['W. Hill', 'NYG', '4', 'Substance abuse', 'Marijuana-related', '2013', 'http://espn.go.com/new-york/nfl/story/_/id/11007693/will-hill-new-york-giants-suspended-six-games-violating-nfl-substance-abuse-policy'], ['S. Holmes', 'NYJ', '4', 'Substance abuse', '', '2010', 'http://sports.espn.go.com/new-york/nfl/news/story?id=5077088'], ['J. Hosley', 'TEN', '4', 'Substance abuse', '', '2014', 'http://www.nfl.com/news/story/0ap2000000355977/article/giants-jayron-hosley-suspended-for-four-games'], ['R. Jackson', 'WAS', '4', 'Substance abuse', '', '2013', 'http://www.nfl.com/news/story/0ap1000000152373/article/washington-redskins-lb-rob-jackson-suspended-four-games'], ['T. Jackson', 'TB', '4', 'Substance abuse', '', '2009', 'http://www.nfl.com/news/story/0ap2000000364087/article/tanard-jackson-suspended-Indefiniteinitely-by-nfl'], ['J. James', 'ARI', '4', 'Substance abuse', '', '2013', 'http://profootballtalk.nbcsports.com/2013/02/13/javarris-james-suspended-four-games/'], ['V. Miller', 'DEN', '4', 'Substance abuse', 'Marijuana-related', '2013', 'http://www.denverpost.com/ci_23711440/broncos-star-von-miller-suspended-four-games-by'], ['O. Mobley', 'DEN', '4', 'Substance abuse', '', '1989', 'http://articles.chicagotribune.com/1989-08-30/sports/8901090097_1_steroid-drug-policy-league-spokesman-joe-browne'], ['B. Moore', 'WAS', '4', 'Substance abuse', '', '2014', 'http://www.cbssports.com/nfl/eye-on-football/24519089/redskins-de-brandon-moore-suspended-4-games'], ['S. Nelson', 'BUF', '4', 'Substance abuse', '', '2010', 'http://www.buffalobills.com/news/article-3/TE-Nelson-suspended-for-first-four-games/b4507a26-f7ac-4bf9-9cf7-c47b2f079781'], ['B. Reed', 'PIT', '4', 'Substance abuse', '', '2013', 'http://www.behindthesteelcurtain.com/2013/7/19/4537156/former-steelers-receiver-bert-reed-suspended-four-games'], ['D. Robinson', 'CAR', '4', 'Substance abuse', '', '2010', 'http://sports.espn.go.com/nfl/news/story?id=5906973'], ['A. Sanders', 'JAX', '4', 'Substance abuse', '', '2014', 'http://espn.go.com/nfl/story/_/id/11249916/ace-sanders-jacksonville-jaguars-takes-leave-suspension-looming'], ['V. Taua', 'SEA', '4', 'Substance abuse', '', '2013', 'http://seattletimes.com/html/seahawks/2022327022_seahawks25xml.html'], ['C. Thompson', 'BAL', '4', 'Substance abuse', '', '2013', 'http://www.nfl.com/news/story/0ap1000000156390/article/christian-thompson-suspended-by-nfl-for-substance-abuse'], ['W. Thurmond', 'SEA', '4', 'Substance abuse', '', '2013', 'http://www.nfl.com/news/story/0ap2000000286330/article/walter-thurmond-to-drop-appeal-of-4game-suspension'], ['D. Washington', 'ARI', '4', 'Substance abuse', '', '2012', 'http://www.nfl.com/news/story/0ap2000000354739/article/daryl-washington-suspended-for-at-least-one-year'], ['R. Watkins', 'KC', '4', 'Substance abuse', '', '2014', 'http://espn.go.com/nfl/story/_/id/11173854/rokevious-watkins-kansas-city-chiefs-suspended-four-games-violating-nfl-substance-abuse-policy'], ['L. White', 'FREE', '4', 'Substance abuse', '', '2010', 'http://www.nfl.com/news/story/09000d5d818ee863/article/nfl-reveals-fourgame-ban-for-white-eightgamer-for-thomas'], ['R. Williams', 'MIA', '4', 'Substance abuse', '', '2005', 'http://sports.espn.go.com/nfl/news/story?id=2421774'], ['B. Browner', 'SEA', '4', 'Substance abuse, repeated offense', '', '2013', 'http://profootballtalk.nbcsports.com/2014/03/05/browner-is-reinstated-with-four-game-suspension/'], ['J. Lewis', 'BAL', '4', 'Substance abuse, repeated offense', '', '2004', 'http://sports.espn.go.com/nfl/columns/story?columnist=pasquarelli_len&id=1279780'], ['A. Smith', 'HOU', '3', 'In-game violence', \"Ripping off opponent's helmet\", '2013', 'http://www.nfl.com/news/story/0ap1000000233139/article/houston-texans-de-antonio-smiths-suspension-appeal-denied'], ['V. Amoia', 'NO', '3', 'PEDs', '', '1989', 'http://www.nytimes.com/1989/08/30/sports/two-suspended-jets-are-out-of-a-job.html'], ['J. Brandom', 'ARI', '3', 'PEDs', '', '1990', 'http://articles.latimes.com/1990-08-14/sports/sp-693_1_offensive-linemen'], ['L. Cheek', 'DAL', '3', 'PEDs', '', '1990', 'http://www.nytimes.com/1990/08/17/sports/drug-suspension-for-bax-of-bucs.html'], ['B. Hartmann', 'WAS', '3', 'PEDs', '', '2012', 'http://profootballtalk.nbcsports.com/2012/05/22/hartmann-explains-his-three-game-suspension/'], ['M. Mraz', 'LA', '3', 'PEDs', '', '1989', 'http://articles.latimes.com/1989-08-30/sports/sp-1284_1_nfl-suspends'], ['B. Riley', 'NYJ', '3', 'PEDs', '', '1989', 'http://www.nytimes.com/1989/08/30/sports/two-suspended-jets-are-out-of-a-job.html'], ['C. Benson', 'DEN', '3', 'Personal conduct', 'Misdemeanour assault', '2014', 'http://www.foxsports.com/nfl/story/Cincinnati-Bengals-RB-Cedric-Benson-suspended-three-games-092211'], ['A. Berry', 'CLE', '3', 'Personal conduct', 'DUI arrest', '2012', 'http://www.nfl.com/news/story/0ap1000000052406/article/aaron-berry-gets-3game-nfl-suspension-for-arrests'], ['J. Felton', 'CAR', '3', 'Personal conduct', 'Reckless driving', '2013', 'http://www.nfl.com/news/story/0ap1000000234517/article/minnesota-vikings-jerome-felton-suspended-3-games'], ['C. Haggans', 'WAS', '3', 'Personal conduct', 'DUI arrest', '2013', 'http://www.mercurynews.com/49ers/ci_21575932/san-francisco-49ers-linebacker-clark-haggans-suspended?source=rss_viewed'], ['V. Jackson', 'SD', '3', 'Personal conduct', 'DUI arrest', '2010', 'http://sports.espn.go.com/nfl/news/story?id=5345629'], ['D. Jarrett', 'CAR', '3', 'Personal conduct', 'DUI arrest', '2012', 'http://www.nfl.com/news/story/09000d5d829ad13c/article/dwayne-jarrett-announces-retirement-from-football'], ['M. Jones', 'JAX', '3', 'Personal conduct', 'Arrest, cocaine possession', '2009', 'http://sports.espn.go.com/nfl/news/story?id=4207106'], ['M. Lynch', 'BUF', '3', 'Personal conduct', 'Misdemeanour gun charge', '2009', 'http://sports.espn.go.com/nfl/news/story?id=4054396'], ['M. Pittman', 'TB', '3', 'Personal conduct', 'Domestic violence', '2004', 'http://sports.espn.go.com/nfl/news/story?id=1826233'], ['D. Washington', 'KC', '3', 'Personal conduct', 'DUI, marijuana-related', '2012', 'http://www.nfl.com/news/story/09000d5d82ab54ab/article/kansas-city-chiefs-donald-washington-charged-with-dui'], ['D.J. Williams', 'DEN', '3', 'Personal conduct', 'DUI arrest', '2012', 'http://espn.go.com/nfl/story/_/id/8466699/denver-broncos-linebacker-dj-williams-suspended-3-more-games'], ['L. Irvin', 'LA', '3', 'Substance abuse', 'Marijuana-related', '1989', 'http://articles.latimes.com/1989-08-30/sports/sp-1280_1_leroy-irvin'], ['J. Simpson', 'IND', '3', 'Substance abuse', 'Marijuana-related', '2012', 'http://espn.go.com/nfl/story/_/id/7849039/free-agent-receiver-jerome-simpson-suspended-three-games-league-source-says'], ['C. Martin', 'GB', '2', 'In-game violence', 'Illegal hit', '1986', 'http://espn.go.com/blog/nflnation/tag/_/name/frank-filchock'], ['N. Suh', 'DET', '2', 'In-game violence', 'Stomping on player', '2011', 'http://espn.go.com/nfl/story/_/id/7293935/ndamukong-suh-detroit-lions-suspended-two-games-pay'], ['W. Smith', 'NO', '2', 'PEDs', '', '2012', 'http://www.nfl.com/news/story/09000d5d821ea898/article/nfl-suspends-vikes-williams-saints-smith-in-starcaps-case'], ['K. Williams', 'MIN', '2', 'PEDs', '', '2011', 'http://espn.go.com/nfl/story/_/id/6922853/nfl-suspends-minnesota-vikings-kevin-williams-three-others-two-games'], ['P. Williams', 'MIN', '2', 'PEDs', '', '2011', 'http://espn.go.com/nfl/story/_/id/6922853/nfl-suspends-minnesota-vikings-kevin-williams-three-others-two-games'], ['S. Brandon', 'DEN', '2', 'Personal conduct', 'Domestic violence', '2007', 'http://www.denverpost.com/broncos/ci_6362668'], ['J. Bridges', 'ARI', '2', 'Personal conduct', 'Arrest, misdemeanour assault for pointing gun at stripper', '2012', 'http://www.newsobserver.com/2012/11/14/2482573/guard-jeremy-bridges-to-get-2nd.html'], ['F. Evans', 'MIN', '2', 'Personal conduct', 'Marijuana-related', '2012', 'http://www.nfl.com/news/story/09000d5d80496e88/article/vikings-evans-gets-twogame-suspension-per-nfl-conduct-policy'], ['L. Hill', 'SEA', '2', 'Personal conduct', 'Domestic violence', '2013', 'http://www.nfl.com/news/story/0ap1000000132752/article/seattle-seahawks-leroy-hill-arrested-on-assault-charges'], ['M. Leshoure', 'DET', '2', 'Personal conduct', 'Arrest, Marijuana-related', '2012', 'http://www.nfl.com/news/story/09000d5d829cc3b8/article/mikel-leshoure-suspended-two-games-by-nfl'], ['B. McDonald', 'FREE', '2', 'Personal conduct', '', '2013', 'http://www.usatoday.com/story/sports/nfl/2013/09/10/nfl-suspends-tom-zbikowski-brandon-mcdonald/2795979/'], ['B. Underwood', 'GB', '2', 'Personal conduct', 'Domestic violence', '2011', 'http://www.nationalfootballpost.com/Report-NFL-suspends-Brandon-Underwood-for-2-games.html'], ['M. Vick', 'ATL', '2', 'Personal conduct', 'Dogfighting', '2007', 'http://espn.go.com/blog/nflnation/tag/_/name/frank-filchock'], ['C. Williams', 'BAL', '2', 'Personal conduct', 'Domestic violence', '2010', 'http://sports.espn.go.com/nfl/news/story?id=5401102'], ['J. Babineaux', 'SEA', '2', 'Substance abuse', '', '2008', 'http://seattletimes.com/html/seahawks/2008148770_webhawk31.html'], ['J. Gordon', 'CLE', '2', 'Substance abuse', '', '2013', 'http://www.nfl.com/news/story/0ap1000000210218/article/josh-gordon-suspended-two-cleveland-browns-games'], ['D. Goldson', 'DEN', '1', 'In-game violence', 'Head-butt', '2013', 'http://www.nfl.com/news/story/0ap2000000284209/article/bucs-dashon-goldson-has-onegame-suspension-upheld'], ['M. Griffin', 'TEN', '1', 'In-game violence', 'Illegal hit', '2013', 'http://www.nfl.com/news/story/0ap2000000287948/article/titans-michael-griffin-suspended-1-game-for-illegal-hit'], ['J. Harrison', 'PIT', '1', 'In-game violence', 'Helmet-to-helmet hit', '2011', 'http://espn.go.com/nfl/story/_/id/7348112/pittsburgh-steelers-james-harrison-banned-1-game-hit-cleveland-browns-colt-mccoy'], ['J. Mays', 'DEN', '1', 'In-game violence', 'Helmet-to-helmet hit', '2012', 'http://www.nfl.com/news/story/0ap1000000066219/article/joe-mays-suspended-one-game-for-hit-on-matt-schaub'], ['B. Meriweather', 'WAS', '1', 'In-game violence', 'Helmet-to-helmet hit', '2013', 'http://www.nfl.com/news/story/0ap2000000268595/article/brandon-meriweathers-suspension-reduced-to-1-game'], ['E. Walden', 'IND', '1', 'In-game violence', 'Head-butt', '2013', 'http://www.nfl.com/news/story/0ap2000000284117/article/erik-walden-has-onegame-ban-for-headbutt-upheld'], ['J. Babineaux', 'ATL', '1', 'Personal conduct', 'Accused of battery and resisting arrest', '2010', 'http://usatoday30.usatoday.com/sports/football/nfl/falcons/2010-08-03-jonathan-babineaux_N.htm'], ['C. Benson', 'PIT', '1', 'Personal conduct', 'Misdemeanour assault', '2014', 'http://espn.go.com/nfl/story/_/id/7119178/suspension-cincinnati-bengals-cedric-benson-reduced-1-game-3'], ['R. Bernard', 'SEA', '1', 'Personal conduct', 'Assault', '2008', 'http://seattletimes.com/html/seahawks/2008148770_webhawk31.html'], ['M. Boley', 'NYG', '1', 'Personal conduct', 'Domestic violence', '2009', 'http://sports.espn.go.com/nfl/news/story?id=4311313'], ['K. Britt', 'TEN', '1', 'Personal conduct', 'DUI arrest', '2012', 'http://www.nfl.com/news/story/0ap1000000056660/article/kenny-britt-of-titans-suspended-one-game-by-nfl'], ['D. Carswell', 'DEN', '1', 'Personal conduct', 'Domestic violence', '2003', 'http://a.espncdn.com/nfl/news/2003/0703/1576427.html'], ['D. Dobbs', 'SF', '1', 'Personal conduct', 'DUI arrest, possession of marijuana', '2013', 'http://espn.go.com/nfl/trainingcamp13/story/_/id/9568430/demarcus-dobbs-san-francisco-49ers-suspended-week-1'], ['B. Hopkins', 'TEN', '1', 'Personal conduct', 'Domestic violence', '2005', 'http://sports.espn.go.com/nfl/columns/story?columnist=pasquarelli_len&id=2138940'], ['L. Johnson', 'KC', '1', 'Personal conduct', \"Simple assault for spitting drink in a woman's face\", '2008', 'http://sports.espn.go.com/nfl/news/story?id=3675871'], ['R. Manning', 'CHI', '1', 'Personal conduct', 'Felony arrest charges', '2006', 'http://sports.espn.go.com/nfl/news/story?id=2672378'], ['B. Marshall', 'DEN', '1', 'Personal conduct', 'Domestic violence', '2012', 'http://www.nfl.com/news/story/09000d5d827969b7/article/report-brandon-marshall-accused-of-hitting-woman-outside-club'], ['T. McDaniel', 'TB', '1', 'Personal conduct', 'Domestic violence', '2010', 'http://sports.espn.go.com/nfl/news/story?id=5622330'], ['Q. Ojinnaka', 'ATL', '1', 'Personal conduct', 'Domestic violence', '2010', 'http://sports.espn.go.com/nfl/news/story?id=5249193'], ['M. Purify', 'CIN', '1', 'Personal conduct', 'Disorderly conduct', '2010', 'http://espn.go.com/blog/afcnorth/post/_/id/16670/bengals-wr-purify-suspended-one-game'], ['D. Rhodes', 'CAR', '1', 'Personal conduct', 'Reckless driving', '2007', 'http://sports.espn.go.com/nfl/news/story?id=2925395'], ['V. Riley', 'KC', '1', 'Personal conduct', 'Domestic violence', '2002', 'http://a.espncdn.com/nfl/news/2003/0703/1576427.html'], ['D. Rodgers', 'MIA', '1', 'Personal conduct', 'Domestic violence', '2003', 'http://articles.sun-sentinel.com/2002-07-19/sports/0207190115_1_derrick-rodgers-kareff-rodgers-william-peguero'], ['A. Talib', 'TB', '1', 'Personal conduct', 'Simple battery, resisting arrest', '2009', 'http://www.denverpost.com/broncos/ci_25352579/broncos-cornerback-aqib-talib-comes-denver-plenty-baggage'], ['F. Washington', 'OAK', '1', 'Personal conduct', 'Domestic violence', '2008', 'http://espn.go.com/blog/baltimore-ravens/post/_/id/10593/what-punishment-should-ray-rice-expect'], ['P. Zukauskas', 'CLE', '1', 'Personal conduct', 'DUI (acquitted)', '2004', 'http://www.usatoday.com/sports/nfl/arrests/'], ['N. Bradham', 'BUF', '1', 'Substance abuse', 'Marijuana-related', '2014', 'http://www.nfl.com/news/story/0ap2000000371523/article/bills-lb-nigel-bradham-suspended-for-opening-game'], ['N. Collins', 'CHI', '1', 'Substance abuse', 'Marijuana-related', '2012', 'http://www.nfl.com/news/story/09000d5d82aaddb5/article/chicago-bears-dt-nate-collins-suspended-one-game-by-nfl'], ['T. Hali', 'KC', '1', 'Substance abuse', '', '2012', 'http://espn.go.com/nfl/trainingcamp12/story/_/id/8284849/kansas-city-chiefs-tamba-hali-suspended-one-game-nfl'], ['I. Pead', 'STL', '1', 'Substance abuse', 'Marijuana-related', '2013', 'http://www.nfl.com/news/story/0ap1000000208343/article/isaiah-pead-suspended-for-substance-abuse-violation'], ['D. Reed', 'BAL', '1', 'Substance abuse', 'Marijuana-related', '2011', 'http://www.nfl.com/news/story/09000d5d821eb87b/article/ravens-david-reed-suspended-for-substanceabuse-violation'], ['L. Wilson', 'NO', '1', 'Substance abuse', 'Marijuana-related', '2012', 'http://profootballtalk.nbcsports.com/2012/07/06/saints-linebacker-lawrence-wilson-suspended-fined-by-league/'], ['D. Scott', 'MIN', '3', 'Personal conduct', 'Child endangerment', '2008', 'http://sports.espn.go.com/nfl/news/story?id=3487505']]\n"
     ]
    }
   ],
   "source": [
    "import csv\n",
    "\n",
    "file = csv.reader(open('nfl-suspensions-data.csv'))\n",
    "nfl_suspensions = list(file)\n",
    "# print(nfl_suspensions)\n",
    "nfl_suspensions = nfl_suspensions[1:]\n",
    "print(nfl_suspensions[0:])"
   ]
  },
  {
   "cell_type": "code",
   "execution_count": 8,
   "metadata": {},
   "outputs": [
    {
     "name": "stdout",
     "output_type": "stream",
     "text": [
      "{'2014': 29, '1946': 1, '1947': 1, '2010': 21, '2008': 10, '2007': 17, '1983': 1, '2009': 10, '2005': 8, '2000': 1, '2012': 45, '2001': 3, '2006': 11, '1989': 17, '   ': 1, '1963': 1, '2013': 40, '1990': 3, '2011': 13, '2004': 6, '2002': 7, '2003': 9, '1997': 3, '1999': 5, '1993': 1, '1995': 1, '1998': 2, '1994': 1, '1986': 1}\n"
     ]
    }
   ],
   "source": [
    "years = {}\n",
    "\n",
    "for row in nfl_suspensions:\n",
    "    year = row[5]\n",
    "    if year in years:\n",
    "        years[year] +=1\n",
    "    else:\n",
    "        years[year] = 1\n",
    "print(years)"
   ]
  },
  {
   "cell_type": "markdown",
   "metadata": {},
   "source": [
    "## Get unique values for Teams and Games"
   ]
  },
  {
   "cell_type": "markdown",
   "metadata": {},
   "source": [
    "### Teams"
   ]
  },
  {
   "cell_type": "code",
   "execution_count": 18,
   "metadata": {},
   "outputs": [],
   "source": [
    "teams = [row[1] for row in nfl_suspensions]"
   ]
  },
  {
   "cell_type": "code",
   "execution_count": 22,
   "metadata": {},
   "outputs": [
    {
     "name": "stdout",
     "output_type": "stream",
     "text": [
      "['TB', 'PIT', 'DAL', 'CHI', 'PHI', 'CLE', 'ARI', 'OAK', 'KC', 'DET', 'NYJ', 'BAL', 'TEN', 'STL', 'IND', 'SEA', 'NYG', 'FREE', 'DEN', 'SD', 'NE', 'CIN', 'HOU', 'MIN', 'GB', 'SF', 'ATL', 'JAX', 'BUF', 'CAR', 'LA', 'NO', 'MIA', 'WAS']\n"
     ]
    }
   ],
   "source": [
    "unique_teams = list(set(teams))\n",
    "print(unique_teams)"
   ]
  },
  {
   "cell_type": "markdown",
   "metadata": {},
   "source": [
    "### Games"
   ]
  },
  {
   "cell_type": "code",
   "execution_count": 25,
   "metadata": {},
   "outputs": [
    {
     "name": "stdout",
     "output_type": "stream",
     "text": [
      "['20', '8', '4', '2', '36', '32', '1', '6', '14', '16', '10', '5', 'Indef.', '3']\n"
     ]
    }
   ],
   "source": [
    "games = [row[2] for row in nfl_suspensions]\n",
    "unique_games = list(set(games))\n",
    "print(unique_games)"
   ]
  },
  {
   "cell_type": "markdown",
   "metadata": {},
   "source": [
    "## Create class Suspension"
   ]
  },
  {
   "cell_type": "code",
   "execution_count": 81,
   "metadata": {},
   "outputs": [],
   "source": [
    "class Suspension():\n",
    "    def __init__(self,line):\n",
    "        self.name = nfl_suspensions[line-1][0]\n",
    "        self.team = nfl_suspensions[line-1][1]\n",
    "        self.games = nfl_suspensions[line-1][2]\n",
    "        self.year = nfl_suspensions[line-1][5]\n",
    "\n",
    "third_line = Suspension(3)\n",
    "\n",
    "# OR !\n",
    "\n",
    "class Suspension():\n",
    "    def __init__(self,line):\n",
    "        self.name = line[0]\n",
    "        self.team = line[1]\n",
    "        self.games = line[2]\n",
    "        self.year = line[5]\n",
    "\n",
    "third_line = Suspension(nfl_suspensions[22])\n"
   ]
  },
  {
   "cell_type": "code",
   "execution_count": 82,
   "metadata": {},
   "outputs": [
    {
     "name": "stdout",
     "output_type": "stream",
     "text": [
      "P. Hornung\n",
      "   \n",
      "GB\n",
      "14\n"
     ]
    }
   ],
   "source": [
    "print(third_line.name)\n",
    "print(third_line.year)\n",
    "print(third_line.team)\n",
    "print(third_line.games)"
   ]
  },
  {
   "cell_type": "markdown",
   "metadata": {},
   "source": [
    "## Improve this class\n"
   ]
  },
  {
   "cell_type": "code",
   "execution_count": 104,
   "metadata": {},
   "outputs": [],
   "source": [
    "class Suspension():\n",
    "    \n",
    "    def __init__(self, line):\n",
    "        self.name = line[0]\n",
    "        self.team = line[1]\n",
    "        self.games = line[2]\n",
    "        if line[5] == '   ':\n",
    "            self.year = 0    \n",
    "        else:\n",
    "            self.year = int(line[5])\n",
    "            \n",
    "        \n",
    "    def get_year(self):\n",
    "        return(self.year)"
   ]
  },
  {
   "cell_type": "code",
   "execution_count": 106,
   "metadata": {},
   "outputs": [
    {
     "name": "stdout",
     "output_type": "stream",
     "text": [
      "2006\n"
     ]
    }
   ],
   "source": [
    "# third_line = Suspension(line =nfl_suspensions[2])\n",
    "missing_year = Suspension(nfl_suspensions[21])\n",
    "print(missing_year.year)\n",
    "\n",
    "# used to find a missing year\n",
    "count = 0\n",
    "for row in nfl_suspensions:\n",
    "    if row[0] !='P. Hornung':\n",
    "        count += 1\n",
    "    #else:\n",
    "    #   print(count)"
   ]
  },
  {
   "cell_type": "markdown",
   "metadata": {},
   "source": [
    "# Personal bonuses !"
   ]
  },
  {
   "cell_type": "markdown",
   "metadata": {},
   "source": [
    "## Number of suspension by type"
   ]
  },
  {
   "cell_type": "code",
   "execution_count": 108,
   "metadata": {},
   "outputs": [],
   "source": [
    "suspension_type = []\n",
    "suspension = [row[3] for row in nfl_suspensions]\n",
    "suspension_type = list(set(suspension))"
   ]
  },
  {
   "cell_type": "code",
   "execution_count": 109,
   "metadata": {},
   "outputs": [
    {
     "name": "stdout",
     "output_type": "stream",
     "text": [
      "['Substance abuse', 'In-game violence', 'PEDs', 'Substance abuse, repeated offense', 'Personal conduct', 'PEDs, repeated offense']\n"
     ]
    }
   ],
   "source": [
    "print(suspension_type)"
   ]
  },
  {
   "cell_type": "code",
   "execution_count": 112,
   "metadata": {},
   "outputs": [],
   "source": [
    "count_suspension_type = {}\n",
    "\n",
    "for row in nfl_suspensions:\n",
    "    suspension = row[3]\n",
    "    if suspension in count_suspension_type:\n",
    "        count_suspension_type[suspension] +=1\n",
    "    else:\n",
    "        count_suspension_type[suspension] =1"
   ]
  },
  {
   "cell_type": "code",
   "execution_count": 113,
   "metadata": {},
   "outputs": [
    {
     "name": "stdout",
     "output_type": "stream",
     "text": [
      "{'Substance abuse, repeated offense': 20, 'Personal conduct': 60, 'PEDs, repeated offense': 6, 'PEDs': 134, 'In-game violence': 10, 'Substance abuse': 39}\n"
     ]
    }
   ],
   "source": [
    "print(count_suspension_type)"
   ]
  },
  {
   "cell_type": "markdown",
   "metadata": {},
   "source": [
    " As a surprise, it seems that the most common suspension is due to consumption of performance-enhancing subtances. Followed by personal conduct. "
   ]
  },
  {
   "cell_type": "markdown",
   "metadata": {},
   "source": [
    "PED's consumption is very rarely repeated contrary to substance abuse."
   ]
  },
  {
   "cell_type": "code",
   "execution_count": 115,
   "metadata": {},
   "outputs": [
    {
     "name": "stdout",
     "output_type": "stream",
     "text": [
      "4.477611940298507\n"
     ]
    }
   ],
   "source": [
    "PED_repeated = 6 / (134 /100)\n",
    "print(PED_repeated)"
   ]
  },
  {
   "cell_type": "code",
   "execution_count": 116,
   "metadata": {},
   "outputs": [
    {
     "name": "stdout",
     "output_type": "stream",
     "text": [
      "51.28205128205128\n"
     ]
    }
   ],
   "source": [
    "Substance_repeated = 20 / (39/100)\n",
    "print(Substance_repeated)"
   ]
  },
  {
   "cell_type": "markdown",
   "metadata": {},
   "source": [
    "As we can see, PED's repeated consumption is very low with an approximative 4.5% of reiteration."
   ]
  },
  {
   "cell_type": "markdown",
   "metadata": {},
   "source": [
    "Repeated substance consumption is way up here, with a glorifying 51,3% of reiteration, let's have a look !"
   ]
  },
  {
   "cell_type": "code",
   "execution_count": 128,
   "metadata": {},
   "outputs": [
    {
     "name": "stdout",
     "output_type": "stream",
     "text": [
      "{'Marijuana-related': 15, '': 40, 'Arrest, felony possession of codeine': 1, 'Cocaine-related': 1, 'Found with dried urine and \"The Original Whizzinator\"': 1, 'Alcohol-related': 1}\n"
     ]
    }
   ],
   "source": [
    "substance_taken = {}\n",
    "\n",
    "for row in nfl_suspensions:\n",
    "    suspension = row[3]\n",
    "    substance = row[4]\n",
    "    if suspension == 'Substance abuse' or suspension == 'Substance abuse, repeated offense':\n",
    "        if substance in substance_taken:\n",
    "            substance_taken[substance] +=1\n",
    "        else:\n",
    "            substance_taken[substance] =1\n",
    "print(substance_taken)\n",
    "            \n",
    "            "
   ]
  },
  {
   "cell_type": "markdown",
   "metadata": {},
   "source": [
    "As we can see, in most case, the substance taken in not in the records... And marijuana is the most consumed recorded drug. Let's have a look for repeated behaviour. We still have 59 suspensions."
   ]
  },
  {
   "cell_type": "code",
   "execution_count": 130,
   "metadata": {},
   "outputs": [
    {
     "name": "stdout",
     "output_type": "stream",
     "text": [
      "{'Marijuana-related': 4, '': 13, 'Arrest, felony possession of codeine': 1, 'Cocaine-related': 1, 'Found with dried urine and \"The Original Whizzinator\"': 1}\n"
     ]
    }
   ],
   "source": [
    "substance_taken = {}\n",
    "\n",
    "for row in nfl_suspensions:\n",
    "    suspension = row[3]\n",
    "    substance = row[4]\n",
    "    if suspension == 'Substance abuse, repeated offense':\n",
    "        if substance in substance_taken:\n",
    "            substance_taken[substance] +=1\n",
    "        else:\n",
    "            substance_taken[substance] =1\n",
    "print(substance_taken)"
   ]
  },
  {
   "cell_type": "markdown",
   "metadata": {},
   "source": [
    "Surprisingly, the alcohol consumption SUSPENSION is not in the list anymore."
   ]
  },
  {
   "cell_type": "markdown",
   "metadata": {},
   "source": [
    "But as before, most case don't record the substance taken (maybe because multiple drugs have been taken and they can't choose one) and marijuana is still top of the declared list !"
   ]
  },
  {
   "cell_type": "markdown",
   "metadata": {},
   "source": [
    "### Personal conduct !"
   ]
  },
  {
   "cell_type": "markdown",
   "metadata": {},
   "source": [
    "Let's have a look at the second most common cause of suspension, personal behaviour !\n"
   ]
  },
  {
   "cell_type": "code",
   "execution_count": 134,
   "metadata": {},
   "outputs": [],
   "source": [
    "behaviour_list_count = {}\n",
    "\n",
    "for row in nfl_suspensions:\n",
    "    suspension = row[3]\n",
    "    reason = row[4]\n",
    "    if suspension == 'Personal conduct':\n",
    "        if reason in behaviour_list_count:\n",
    "            behaviour_list_count[reason] +=1\n",
    "        else:\n",
    "            behaviour_list_count[reason] = 1"
   ]
  },
  {
   "cell_type": "code",
   "execution_count": 135,
   "metadata": {},
   "outputs": [
    {
     "name": "stdout",
     "output_type": "stream",
     "text": [
      "{'Gambling-related': 5, 'Domestic violence': 15, 'Multiple arrests': 2, 'DUI manslaughter': 2, 'Arrest, possession of weapon': 1, 'Improper gifts while in college': 1, 'DUI arrest, multiple': 2, 'DUI arrest, drugs': 1, 'Arrest, possession of weapon and marijuana': 1, 'Mulitple arrests': 1, 'Accused of disorderly conduct, resisting arrest': 1, 'Sexual assault': 1, 'Misdemeanour assault': 2, 'DUI arrest': 6, 'Reckless driving': 2, 'Arrest, cocaine possession': 1, 'Misdemeanour gun charge': 1, 'DUI, marijuana-related': 1, 'Arrest, misdemeanour assault for pointing gun at stripper': 1, 'Marijuana-related': 1, 'Arrest, Marijuana-related': 1, '': 1, 'Dogfighting': 1, 'Accused of battery and resisting arrest': 1, 'Assault': 1, 'DUI arrest, possession of marijuana': 1, \"Simple assault for spitting drink in a woman's face\": 1, 'Felony arrest charges': 1, 'Disorderly conduct': 1, 'Simple battery, resisting arrest': 1, 'DUI (acquitted)': 1, 'Child endangerment': 1}\n"
     ]
    }
   ],
   "source": [
    "print(behaviour_list_count)"
   ]
  },
  {
   "cell_type": "markdown",
   "metadata": {},
   "source": [
    "The top 3 of bad behaviour are .... Domestic violence (sportmanship at it's finest), DUI disrespect and gambling-related issues !"
   ]
  },
  {
   "cell_type": "markdown",
   "metadata": {},
   "source": [
    "##### That's is for this dataset, thanks for reading !"
   ]
  },
  {
   "cell_type": "code",
   "execution_count": null,
   "metadata": {},
   "outputs": [],
   "source": []
  }
 ],
 "metadata": {
  "kernelspec": {
   "display_name": "Python 3",
   "language": "python",
   "name": "python3"
  },
  "language_info": {
   "codemirror_mode": {
    "name": "ipython",
    "version": 3
   },
   "file_extension": ".py",
   "mimetype": "text/x-python",
   "name": "python",
   "nbconvert_exporter": "python",
   "pygments_lexer": "ipython3",
   "version": "3.6.5"
  }
 },
 "nbformat": 4,
 "nbformat_minor": 2
}
