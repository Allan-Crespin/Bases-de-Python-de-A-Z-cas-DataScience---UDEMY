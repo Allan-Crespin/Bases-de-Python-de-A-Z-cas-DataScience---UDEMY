{
 "cells": [
  {
   "cell_type": "markdown",
   "metadata": {},
   "source": [
    "# Regular expression REGEX\n",
    "## Introduction"
   ]
  },
  {
   "cell_type": "code",
   "execution_count": 1,
   "metadata": {},
   "outputs": [],
   "source": [
    "string = ['data science', 'big data']\n",
    "regex = 'data'\n",
    "# our regex correspond to our list elements"
   ]
  },
  {
   "cell_type": "markdown",
   "metadata": {},
   "source": [
    "## Generic characters"
   ]
  },
  {
   "cell_type": "code",
   "execution_count": 2,
   "metadata": {},
   "outputs": [],
   "source": [
    "# . (dot)\n",
    "string = ['but', 'batte', 'robotique']\n",
    "regex = 'b.t'"
   ]
  },
  {
   "cell_type": "markdown",
   "metadata": {},
   "source": [
    "## look for start and end of string"
   ]
  },
  {
   "cell_type": "code",
   "execution_count": 3,
   "metadata": {},
   "outputs": [],
   "source": [
    "# ^ -> beginning\n",
    "\n",
    "# $ -> end"
   ]
  },
  {
   "cell_type": "code",
   "execution_count": 5,
   "metadata": {},
   "outputs": [],
   "source": [
    "# '^a' -> match all string starting with 'a'\n",
    "\n",
    "# 'a$' -> match all string ending with 'a'"
   ]
  },
  {
   "cell_type": "code",
   "execution_count": 6,
   "metadata": {},
   "outputs": [],
   "source": [
    "# Combine with generic characters !\n",
    "string = ['il est sur le feu', 'fou']\n",
    "bad_string = ['un feu de paille']\n",
    "regex = 'f.u$'"
   ]
  },
  {
   "cell_type": "markdown",
   "metadata": {},
   "source": [
    "# Dataset top 1000 questions AskReddit in 2015"
   ]
  },
  {
   "cell_type": "code",
   "execution_count": 11,
   "metadata": {},
   "outputs": [],
   "source": [
    "import csv \n",
    "\n",
    "file = csv.reader(open('askreddit-2015.csv', 'r', encoding = 'utf-8'))\n",
    "posts = list(file)"
   ]
  },
  {
   "cell_type": "code",
   "execution_count": 12,
   "metadata": {},
   "outputs": [
    {
     "name": "stdout",
     "output_type": "stream",
     "text": [
      "[['Title', 'Score', 'Time', 'Gold', 'NumComs'], ['What\\'s your internet \"white whale\", something you\\'ve been searching for years to find with no luck?', '11510', '1433213314.0', '1', '26195'], [\"What's your favorite video that is 10 seconds or less?\", '8656', '1434205517.0', '4', '8479'], ['What are some interesting tests you can take to find out about yourself?', '8480', '1443409636.0', '1', '4055'], [\"PhD's of Reddit. What is a dumbed down summary of your thesis?\", '7927', '1440188623.0', '0', '13201']]\n"
     ]
    }
   ],
   "source": [
    "print(posts[0:5])"
   ]
  },
  {
   "cell_type": "code",
   "execution_count": 13,
   "metadata": {},
   "outputs": [],
   "source": [
    "posts = posts[1:]"
   ]
  },
  {
   "cell_type": "code",
   "execution_count": 14,
   "metadata": {},
   "outputs": [
    {
     "name": "stdout",
     "output_type": "stream",
     "text": [
      "['What\\'s your internet \"white whale\", something you\\'ve been searching for years to find with no luck?', '11510', '1433213314.0', '1', '26195']\n",
      "[\"What's your favorite video that is 10 seconds or less?\", '8656', '1434205517.0', '4', '8479']\n",
      "['What are some interesting tests you can take to find out about yourself?', '8480', '1443409636.0', '1', '4055']\n",
      "[\"PhD's of Reddit. What is a dumbed down summary of your thesis?\", '7927', '1440188623.0', '0', '13201']\n",
      "['What is cool to be good at, yet uncool to be REALLY good at?', '7711', '1440082910.0', '0', '20325']\n",
      "['[Serious] Redditors currently in a relationship, besides dinner and a movie, what are your favorite activities for date night?', '7598', '1439993280.0', '2', '5389']\n",
      "[\"Parents of Reddit, what's something that your kid has done that you pretended to be angry about but secretly impressed or amused you?\", '7553', '1439161809.0', '0', '11520']\n",
      "['What is a good subreddit to binge read the All Time Top Posts of?', '7498', '1438822288.0', '0', '2780']\n",
      "['What would the person who named Walkie Talkies have named other items?', '7501', '1447904351.0', '4', '6720']\n",
      "[\"People who grew up in a different socioeconomic class as your significant others, what are the notable differences you've noticed and how does it affect your relationship (if at all)?\", '7419', '1440358069.0', '0', '8603']\n"
     ]
    }
   ],
   "source": [
    "for post in posts[:10]:\n",
    "    print(post)"
   ]
  },
  {
   "cell_type": "markdown",
   "metadata": {},
   "source": [
    "## Find corresponding items with re() module"
   ]
  },
  {
   "cell_type": "code",
   "execution_count": 15,
   "metadata": {},
   "outputs": [
    {
     "name": "stdout",
     "output_type": "stream",
     "text": [
      "no match!\n"
     ]
    }
   ],
   "source": [
    "# re.search(regex, string)\n",
    "import re\n",
    "\n",
    "if re.search('baton', 'kung fu') is not None:\n",
    "    print('found!')\n",
    "else:\n",
    "    print('no match!')"
   ]
  },
  {
   "cell_type": "code",
   "execution_count": 16,
   "metadata": {},
   "outputs": [
    {
     "name": "stdout",
     "output_type": "stream",
     "text": [
      "found!\n"
     ]
    }
   ],
   "source": [
    "if re.search('f.', 'kung fu') is not None:\n",
    "    print('found!')\n",
    "else:\n",
    "    print('no match!')"
   ]
  },
  {
   "cell_type": "code",
   "execution_count": 19,
   "metadata": {},
   "outputs": [
    {
     "name": "stdout",
     "output_type": "stream",
     "text": [
      "76\n"
     ]
    }
   ],
   "source": [
    "# 'Of reddit'\n",
    "of_reddit_count = 0\n",
    "for post in posts:\n",
    "    if re.search('of Reddit', post[0]) is not None:\n",
    "        of_reddit_count +=1\n",
    "        \n",
    "print(of_reddit_count)    "
   ]
  },
  {
   "cell_type": "markdown",
   "metadata": {},
   "source": [
    "## Match various letters !"
   ]
  },
  {
   "cell_type": "code",
   "execution_count": 20,
   "metadata": {},
   "outputs": [],
   "source": [
    "# example\n",
    "regex = '[slm]ac'\n",
    "string = ['sac', 'lac', 'mac']"
   ]
  },
  {
   "cell_type": "code",
   "execution_count": 21,
   "metadata": {},
   "outputs": [
    {
     "name": "stdout",
     "output_type": "stream",
     "text": [
      "102\n"
     ]
    }
   ],
   "source": [
    "of_reddit_count = 0\n",
    "\n",
    "for post in posts:\n",
    "    regex = 'of [Rr]eddit'\n",
    "    if re.search(regex, post[0]) is not None:\n",
    "        of_reddit_count += 1\n",
    "        \n",
    "print(of_reddit_count)"
   ]
  },
  {
   "cell_type": "markdown",
   "metadata": {},
   "source": [
    "## Ignore specific characters "
   ]
  },
  {
   "cell_type": "code",
   "execution_count": 25,
   "metadata": {},
   "outputs": [
    {
     "name": "stdout",
     "output_type": "stream",
     "text": [
      "69\n"
     ]
    }
   ],
   "source": [
    "# [Serious] -> to say they look for serious answer on reddit\n",
    "regex = \"[Serious]\" # doesn't work, found all accurences\n",
    "# to ignore specific -> \\\n",
    "\n",
    "regex = '\\.$'\n",
    "\n",
    "# Count all [Serious tags]\n",
    "\n",
    "serious_count = 0\n",
    "for post in posts:\n",
    "    regex = '\\[Serious\\]'\n",
    "    if re.search(regex, post[0]) is not None:\n",
    "        serious_count +=1\n",
    "        \n",
    "print(serious_count)"
   ]
  },
  {
   "cell_type": "markdown",
   "metadata": {},
   "source": [
    "## Improve our regex"
   ]
  },
  {
   "cell_type": "code",
   "execution_count": 28,
   "metadata": {},
   "outputs": [
    {
     "name": "stdout",
     "output_type": "stream",
     "text": [
      "80\n"
     ]
    }
   ],
   "source": [
    "serious_count = 0\n",
    "for post in posts:\n",
    "    regex = '[\\[\\(][Ss]erious[\\]\\)]' # \\ before all specific character except [] used to allow different options\n",
    "    # works for (serious)--(Serious)--[Serious]--[serious]\n",
    "    if re.search(regex, post[0]) is not None:\n",
    "        serious_count +=1\n",
    "        \n",
    "print(serious_count)"
   ]
  },
  {
   "cell_type": "markdown",
   "metadata": {},
   "source": [
    "## Combine multiple Regex"
   ]
  },
  {
   "cell_type": "code",
   "execution_count": 40,
   "metadata": {},
   "outputs": [],
   "source": [
    "# use of | like in other language\n",
    "\n",
    "serious_start_count = 0\n",
    "serious_end_count = 0\n",
    "serious_count_final = 0\n",
    "\n",
    "for post in posts:\n",
    "    regex_start = '^[\\[\\(][Ss]erious[\\]\\)]'\n",
    "    regex_end = '[\\[\\(][Ss]erious[\\]\\)]$'\n",
    "    final_regex = '^[\\[\\(][Ss]erious[\\]\\)]|[\\[\\(][Ss]erious[\\]\\)]$'\n",
    "    if re.search(regex_start, post[0]) is not None:\n",
    "        serious_start_count += 1\n",
    "    if re.search(regex_end, post[0]) is not None:\n",
    "        serious_end_count +=1\n",
    "    if re.search(final_regex, post[0]) is not None:\n",
    "        serious_count_final +=1\n",
    "    \n",
    "    "
   ]
  },
  {
   "cell_type": "code",
   "execution_count": 41,
   "metadata": {},
   "outputs": [
    {
     "name": "stdout",
     "output_type": "stream",
     "text": [
      "80\n",
      "11\n",
      "69\n"
     ]
    }
   ],
   "source": [
    "print(serious_count_final)\n",
    "print(serious_end_count)\n",
    "print(serious_start_count)"
   ]
  },
  {
   "cell_type": "markdown",
   "metadata": {},
   "source": [
    "## Modify strings with regex"
   ]
  },
  {
   "cell_type": "code",
   "execution_count": 46,
   "metadata": {},
   "outputs": [
    {
     "data": {
      "text/plain": [
       "'hi world !'"
      ]
     },
     "execution_count": 46,
     "metadata": {},
     "output_type": "execute_result"
    }
   ],
   "source": [
    "# sub()\n",
    "\n",
    "re.sub('yo', 'hello', 'hi world !')\n",
    "\n",
    "# re.sub(found, change, string)"
   ]
  },
  {
   "cell_type": "code",
   "execution_count": 49,
   "metadata": {},
   "outputs": [
    {
     "name": "stdout",
     "output_type": "stream",
     "text": [
      "[Serious] Redditors currently in a relationship, besides dinner and a movie, what are your favorite activities for date night?\n",
      "[Serious] At the end of a job interview when they ask me, \"So, do you have any questions?\", what are some genuinely good questions to ask?\n",
      "What is that one trick that \"they\" really don't want you to know? [Serious]\n",
      "[Serious] Redditors who want Trump to become president, why?\n",
      "[Serious] People of Reddit who have HIV/AIDS, when did you realize something was wrong?\n",
      "[Serious] What are some great apps for smartphones that people might not be aware of?\n",
      "[Serious] people who have twin siblings but are not a twin themselves, how is your relationship with your twin brothers or sisters?\n",
      "[Serious] Therapists/psychiatrists of reddit: what is something that most people think they are alone in experiencing/feeling/thinking?\n",
      "[Serious] What's the creepiest TRUE story that happened to you or someone you know?\n",
      "[Serious] Redditors who want Bernie Sanders to become president, why?\n",
      "[Serious] Photographers of Reddit : What are some simple things that normal people can do to help their photographs look like they are professional quality?\n",
      "[Serious] Soldiers of Reddit who've fought in Afghanistan, what preconceptions did you have that turned out to be completely wrong?\n",
      "Older Redditors, what are some \"early warning signs\" of trouble that younger folks may not know about? [Serious]\n",
      "[Serious] National Park Rangers and any other profession that takes you far out into the wilderness. What are the strangest weirdest things you have seen or heard or experienced while out there?\n",
      "[Serious]Muslims of Reddit, how much did your life change after 9/11?\n",
      "People who have been to prison, what unexpected habits did you pick up inside and stick with following your release? [Serious]\n",
      "[Serious] What footage does convince you that paranormal things exist?\n",
      "[Serious] Health Professionals of Reddit - What are some of the most common things that freak people out about their bodies that is totally and completely normal?\n",
      "[Serious] Redditors who have been on a gameshow or any contest on TV, what were some behind the scenes \"rules\" that they tell you before they send you out before the cameras?\n",
      "[Serious] People age 18-40s, who do not work or go to school, what do you do in your daily life? How do you sustain it?\n",
      "[Serious] What would be the next big issue after Marijuana and gay marriage?\n",
      "[Serious] Psychiatrists/Psychologists of Reddit, what is the most profound or insightful thing you have ever heard from a patient with a mental illness?\n",
      "[Serious] What are some topics that everybody should have a solid understanding of?\n",
      "[Serious] Reddit, what are some 'once in a lifetime' occurances that have been captured by a camera?\n",
      "How should France and the rest of the world react following the terrorist attacks? [Serious]\n",
      "[Serious] Bilinguals of reddit, what was the weirdest conversation that you overheard when the people didn't think you'd understand?\n",
      "[Serious] Doctors of Reddit, what are the red flags that people shoud look out for in order to avoid an incompetent or \"bad\" doctor?\n",
      "[Serious] Redditors over 50: What have you seen become socially acceptable that you never thought would?\n",
      "[Serious] Redditors who know how much time they have left - how does your day look like?\n",
      "[Serious] What is something scary that has happened to you that you cannot explain rationally?\n",
      "[Serious] Long time teachers of reddit, what differences do you observe in your students today, and the students you taught 5,10,20 years ago?\n",
      "Divorced Redditors: What was it that finally made you or your spouse end the marriage? [Serious]\n",
      "[Serious]What is the stupidest thing you've ever heard someone say with confidence?\n",
      "[Serious] How are Japanese students taught about the bombings of Hiroshima and Nagasaki?\n",
      "[Serious] Germans of Reddit, in what ways, if at all, does Germany recognize WWII veterans?\n",
      "[Serious] Redditors who have lawfully killed someone, what's your story?\n",
      "Iraq and Afghanistan veterans, what are some of the good aspects of those countries/cultures that you experienced that we will never hear about from the western media? [Serious]\n",
      "[Serious] Professors, what is the most simple thing students do which grants them your respect or annoys you to death?\n",
      "[Serious] Redditors who live in very remote areas of the world, like Barrow, Alaska, how is life there? What do you do for fun?\n",
      "[Serious] What lie are you living?\n",
      "[Serious] Garbage Men of Reddit: Have you ever found anything that was so sketchy you reported it to the police? What was it?\n",
      "[Serious] What lie are you living?\n",
      "[Serious] What's the most horrific thing that happened in your neighbourhood/town?\n",
      "[Serious] Reddit, what secret did your spouse keep from you until after you were married?\n",
      "[Serious]Redditors who have had to kill in self defense, Did you ever recover psychologically? What is it to live knowing you killed someone regardless you didn't want to do it?\n",
      "[Serious] Parents of Reddit who dislike, hate or resent your children, what happened?\n",
      "[Serious] Prison Guards/Officers, has there ever been a time where you believed an inmate was truly innocent? What made you believe so?\n",
      "[Serious] Job applicants who walked out of an interview before it was over, why did you do it?\n",
      "[Serious] actively practicing Muslims, what goes through your mind on a day like today?\n",
      "[Serious] What are your scariest/most traumatic stories from your childhood?\n",
      "[Serious] How did you respond after your ex wanted you back after leaving you?\n",
      "[Serious] People who support Donald Trump becoming president, what are you main reasons? What do you agree with him on?\n",
      "[Serious] What is the most mysterious and unexplained video on the internet?\n",
      "[Serious] Greeks of Reddit, how did you vote Sunday, and why?\n",
      "[Serious] Overthinkers of reddit, How do you control your thoughts or stop over thinking?\n",
      "[Serious] What is a passion of yours that you can't talk about because no one around you 'gets' it?\n",
      "What's something that fucks a person up deeply but is hard to understand unless it happens to you? [Serious]\n",
      "School Bus Drivers of Reddit. What do you folks do between morning pickups and afternoon drop offs?[Serious]\n",
      "[Serious] Parents or friends of missing children: what happened?\n",
      "[Serious]What is the most wrong someone has been proved to be on live television?\n",
      "[Serious] What is the creepiest thing that has ever ACTUALLY happened to you?\n",
      "[Serious] What is an item you always bought cheaply, then finally bought an expensive version and realized it was worth paying more?\n",
      "[Serious]Clubbers of Reddit (Nightclubs not killing animals), what are your best tips for people new to clubbing?\n",
      "[Serious] People of Reddit who have been in a coma, what was it like? Were you conscious at all or were you completely gone? How did you get into the coma and how did you get out?\n",
      "[Serious] What inside knowledge can you share with reddit?\n",
      "[Serious] How to have a social life without alcohol?\n",
      "[Serious] What is an alarming fact that the next generation is going to have to deal with?\n",
      "Women that have worked at Hooters or a similar themed restaurant , what is your worst story? [Serious]\n",
      "[Serious] What is your go-to sandwich?\n",
      "[Serious] Convicted criminals of Reddit who were later proven innocent, what's life like after being found innocent and released?\n",
      "[Serious] People who have been in a viral video/photo, how has it affected your life for the better or worse?\n",
      "Men of Reddit, what \"feminine\" thing do you wish was more acceptable for men to do? [Serious]\n",
      "Redditors who \"went out for cigarettes\" and never came back, why did you leave? Where did you go? What is life like for you now? [Serious]\n",
      "[Serious]What's your \"never meet your heroes\" story?\n",
      "[Serious] Guys of reddit, what's the creepiest thing a lady has done that was meant to be romantic?\n",
      "[Serious] What have you done in real life that deserves gold?\n",
      "[Serious] Redditors who have survived a plane crash - how did people react on the way down?\n",
      "[Serious] Redditors of Russia, has the crisis and sanctions imposed by the US and EU influenced you personally? If so, how?\n",
      "[Serious] Prison workers of Reddit. Have you ever met an ex inmate of 'yours' out of prison? If so, what happened?\n",
      "[Serious] Ladies, what's the creepiest thing a guy has done that was meant to be 'romantic'?\n"
     ]
    }
   ],
   "source": [
    "new_posts = []\n",
    "\n",
    "for post in posts:\n",
    "    new_post = re.sub('[\\[\\(][Ss]erious[\\]\\)]', '[Serious]', post[0])\n",
    "    new_posts.append(new_post)\n",
    "    \n",
    "for post in new_posts:   \n",
    "    if re.search('\\[Serious\\]', post) is not None :\n",
    "        print(post)\n",
    "\n"
   ]
  },
  {
   "cell_type": "markdown",
   "metadata": {},
   "source": [
    "# Match years with regex"
   ]
  },
  {
   "cell_type": "code",
   "execution_count": 50,
   "metadata": {},
   "outputs": [],
   "source": [
    "# [0-9] -> between 0 and 9\n",
    "# same as [a-z] for letters\n",
    "# [0-2] -> between 0 and 2\n",
    "\n",
    "# for a year -> [0-2][0-9]{3} ({x} x the number of repetition)\n",
    "# same as [0-2][0-9][0-9][0-9]"
   ]
  },
  {
   "cell_type": "code",
   "execution_count": 53,
   "metadata": {},
   "outputs": [
    {
     "ename": "SyntaxError",
     "evalue": "unexpected EOF while parsing (<ipython-input-53-c60eac5cbce1>, line 5)",
     "output_type": "error",
     "traceback": [
      "\u001b[0;36m  File \u001b[0;32m\"<ipython-input-53-c60eac5cbce1>\"\u001b[0;36m, line \u001b[0;32m5\u001b[0m\n\u001b[0;31m    # year in 4 digits found\u001b[0m\n\u001b[0m                            ^\u001b[0m\n\u001b[0;31mSyntaxError\u001b[0m\u001b[0;31m:\u001b[0m unexpected EOF while parsing\n"
     ]
    }
   ],
   "source": [
    "year_string = []\n",
    "\n",
    "for string in year_string:\n",
    "    if re.search('[0-2][0-9]{3}', string) is not None:\n",
    "        # year in 4 digits found"
   ]
  },
  {
   "cell_type": "markdown",
   "metadata": {},
   "source": [
    "## Extract all years"
   ]
  },
  {
   "cell_type": "code",
   "execution_count": 54,
   "metadata": {},
   "outputs": [
    {
     "data": {
      "text/plain": [
       "['a', 'b', 'c']"
      ]
     },
     "execution_count": 54,
     "metadata": {},
     "output_type": "execute_result"
    }
   ],
   "source": [
    "# findall()\n",
    "\n",
    "re.findall('[a-z]', 'abc123')"
   ]
  },
  {
   "cell_type": "code",
   "execution_count": 57,
   "metadata": {},
   "outputs": [
    {
     "name": "stdout",
     "output_type": "stream",
     "text": [
      "['2018', '2017', '2019']\n"
     ]
    }
   ],
   "source": [
    "string = \" We're in 2018, one year past 2017, one year before 2019\"\n",
    "\n",
    "years = re.findall('[0-2][0-9]{3}', string)\n",
    "print(years)"
   ]
  },
  {
   "cell_type": "code",
   "execution_count": null,
   "metadata": {},
   "outputs": [],
   "source": []
  },
  {
   "cell_type": "code",
   "execution_count": null,
   "metadata": {},
   "outputs": [],
   "source": []
  }
 ],
 "metadata": {
  "kernelspec": {
   "display_name": "Python 3",
   "language": "python",
   "name": "python3"
  },
  "language_info": {
   "codemirror_mode": {
    "name": "ipython",
    "version": 3
   },
   "file_extension": ".py",
   "mimetype": "text/x-python",
   "name": "python",
   "nbconvert_exporter": "python",
   "pygments_lexer": "ipython3",
   "version": "3.6.5"
  }
 },
 "nbformat": 4,
 "nbformat_minor": 2
}
