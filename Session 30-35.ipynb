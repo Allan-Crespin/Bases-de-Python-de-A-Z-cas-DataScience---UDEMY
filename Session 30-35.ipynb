{
 "cells": [
  {
   "cell_type": "markdown",
   "metadata": {},
   "source": [
    "# Opérations sur les listes."
   ]
  },
  {
   "cell_type": "code",
   "execution_count": 1,
   "metadata": {},
   "outputs": [],
   "source": [
    "weather_data = []\n",
    "f = open('madrid-weather-2016.csv','r')"
   ]
  },
  {
   "cell_type": "code",
   "execution_count": 2,
   "metadata": {},
   "outputs": [],
   "source": [
    "data = f.read()\n",
    "rows = data.split('\\n')"
   ]
  },
  {
   "cell_type": "code",
   "execution_count": 3,
   "metadata": {},
   "outputs": [
    {
     "name": "stdout",
     "output_type": "stream",
     "text": [
      "[['Jour', 'Climat'], ['1', 'Soleil'], ['2', 'Soleil'], ['3', 'Soleil'], ['4', 'Soleil']]\n"
     ]
    }
   ],
   "source": [
    "for row in rows:\n",
    "    split_row = row.split(',')\n",
    "    weather_data.append(split_row)\n",
    "\n",
    "print(weather_data[0:5])"
   ]
  },
  {
   "cell_type": "code",
   "execution_count": 4,
   "metadata": {},
   "outputs": [
    {
     "name": "stdout",
     "output_type": "stream",
     "text": [
      "366\n"
     ]
    }
   ],
   "source": [
    "count = 0\n",
    "for item in weather_data:\n",
    "    count +=1\n",
    "\n",
    "print(count)"
   ]
  },
  {
   "cell_type": "code",
   "execution_count": 5,
   "metadata": {},
   "outputs": [],
   "source": [
    "# 365 jour + l'en-tête"
   ]
  },
  {
   "cell_type": "markdown",
   "metadata": {},
   "source": [
    "## Supprimer l'en-tête."
   ]
  },
  {
   "cell_type": "code",
   "execution_count": 6,
   "metadata": {},
   "outputs": [
    {
     "name": "stdout",
     "output_type": "stream",
     "text": [
      "[['1', 'Soleil'], ['2', 'Soleil'], ['3', 'Soleil'], ['4', 'Soleil'], ['5', 'Soleil']]\n"
     ]
    }
   ],
   "source": [
    "# slice()\n",
    "new_weather = weather_data[1:366]\n",
    "print(new_weather[0:5])"
   ]
  },
  {
   "cell_type": "markdown",
   "metadata": {},
   "source": [
    "### Vérifier la présence d'un élément dans une liste"
   ]
  },
  {
   "cell_type": "code",
   "execution_count": 7,
   "metadata": {},
   "outputs": [],
   "source": [
    "# Premier technique : la boucle for."
   ]
  },
  {
   "cell_type": "code",
   "execution_count": 8,
   "metadata": {},
   "outputs": [],
   "source": [
    "# Deuxième technique : la méthod in"
   ]
  },
  {
   "cell_type": "markdown",
   "metadata": {},
   "source": [
    "animals =['chien','tigre','girafe']\n",
    "\n",
    "if 'chien' in animals:\n",
    "    print('Yep')"
   ]
  },
  {
   "cell_type": "code",
   "execution_count": 12,
   "metadata": {},
   "outputs": [
    {
     "name": "stdout",
     "output_type": "stream",
     "text": [
      "['Soleil', 'Soleil', 'Soleil', 'Soleil', 'Soleil']\n"
     ]
    }
   ],
   "source": [
    "weather = []\n",
    "\n",
    "for line in new_weather:\n",
    "    weather.append(line[1])\n",
    "\n",
    "print(weather[0:5])"
   ]
  },
  {
   "cell_type": "code",
   "execution_count": 15,
   "metadata": {},
   "outputs": [
    {
     "name": "stdout",
     "output_type": "stream",
     "text": [
      "['Pluie', 'Soleil', 'Nuage', 'Nuage-Pluie', 'Orage']\n"
     ]
    }
   ],
   "source": [
    "weather_types = ['Pluie', 'Soleil', 'Nuage', 'Nuage-Pluie', 'Orage', 'Climat']\n",
    "weather_type_found = []\n",
    "for row in weather_types:\n",
    "    if row in weather:\n",
    "        weather_type_found.append(row)\n",
    "        \n",
    "print(weather_type_found)"
   ]
  },
  {
   "cell_type": "markdown",
   "metadata": {},
   "source": [
    "## Dictionnaire !"
   ]
  },
  {
   "cell_type": "code",
   "execution_count": 16,
   "metadata": {},
   "outputs": [],
   "source": [
    "students = ['Nico','Stella','Bryan','Abder']\n",
    "scores = [14,15,18,20]"
   ]
  },
  {
   "cell_type": "code",
   "execution_count": 19,
   "metadata": {},
   "outputs": [
    {
     "name": "stdout",
     "output_type": "stream",
     "text": [
      "15\n"
     ]
    }
   ],
   "source": [
    "index = [0,1,2,3]\n",
    "name = 'Stella'\n",
    "score = 0\n",
    "\n",
    "for i in index:\n",
    "    if students[i] == name:\n",
    "        score = scores[i]\n",
    "        \n",
    "print(score)"
   ]
  },
  {
   "cell_type": "code",
   "execution_count": 21,
   "metadata": {},
   "outputs": [
    {
     "name": "stdout",
     "output_type": "stream",
     "text": [
      "{'Nico': 14, 'Stella': 15, 'Bryan': 18, 'Abder': 20}\n"
     ]
    }
   ],
   "source": [
    "scores = {} # dictionnaire vide\n",
    "scores['Nico'] = 14\n",
    "scores['Stella'] = 15\n",
    "scores['Bryan'] = 18\n",
    "scores['Abder'] = 20\n",
    "print(scores)"
   ]
  },
  {
   "cell_type": "code",
   "execution_count": 22,
   "metadata": {},
   "outputs": [
    {
     "name": "stdout",
     "output_type": "stream",
     "text": [
      "{'Poules': 120, 'Chèvres': 140, 'Chevaux': 23}\n"
     ]
    }
   ],
   "source": [
    "animals = {'Poules':120,'Chèvres': 140,'Chevaux' : 23}\n",
    "print(animals)"
   ]
  },
  {
   "cell_type": "code",
   "execution_count": 23,
   "metadata": {},
   "outputs": [
    {
     "data": {
      "text/plain": [
       "{'Poules': 120, 'Chèvres': 140, 'Chevaux': 23}"
      ]
     },
     "execution_count": 23,
     "metadata": {},
     "output_type": "execute_result"
    }
   ],
   "source": [
    "animals\n"
   ]
  },
  {
   "cell_type": "code",
   "execution_count": 24,
   "metadata": {},
   "outputs": [
    {
     "data": {
      "text/plain": [
       "{'Poules': 110, 'Chèvres': 140, 'Chevaux': 23}"
      ]
     },
     "execution_count": 24,
     "metadata": {},
     "output_type": "execute_result"
    }
   ],
   "source": [
    "animals['Poules'] = 110\n",
    "animals"
   ]
  },
  {
   "cell_type": "code",
   "execution_count": 25,
   "metadata": {},
   "outputs": [
    {
     "data": {
      "text/plain": [
       "{'Poules': 110, 'Chèvres': 140, 'Chevaux': 28}"
      ]
     },
     "execution_count": 25,
     "metadata": {},
     "output_type": "execute_result"
    }
   ],
   "source": [
    "animals['Chevaux'] += 5\n",
    "animals"
   ]
  },
  {
   "cell_type": "code",
   "execution_count": 29,
   "metadata": {},
   "outputs": [],
   "source": [
    "scores['Marie'] = 15\n",
    "scores['Stella'] += 2\n",
    "scores['Nico'] = 10\n",
    "\n",
    "stella_found = 'Stella' in scores\n",
    "tom_found = 'Tom' in scores"
   ]
  },
  {
   "cell_type": "code",
   "execution_count": 30,
   "metadata": {},
   "outputs": [
    {
     "name": "stdout",
     "output_type": "stream",
     "text": [
      "{'Nico': 10, 'Stella': 19, 'Bryan': 18, 'Abder': 20, 'Marie': 15}\n",
      "False\n",
      "True\n"
     ]
    }
   ],
   "source": [
    "print(scores)\n",
    "print(tom_found)\n",
    "print(stella_found)"
   ]
  },
  {
   "cell_type": "markdown",
   "metadata": {},
   "source": [
    "## Condition IF et ELSE"
   ]
  },
  {
   "cell_type": "code",
   "execution_count": 36,
   "metadata": {},
   "outputs": [
    {
     "name": "stdout",
     "output_type": "stream",
     "text": [
      "chaud\n"
     ]
    }
   ],
   "source": [
    "temp = 55\n",
    "\n",
    "if temp > 50:\n",
    "    print('chaud')\n",
    "if temp < 50:\n",
    "    print('froid')"
   ]
  },
  {
   "cell_type": "code",
   "execution_count": 37,
   "metadata": {},
   "outputs": [
    {
     "name": "stdout",
     "output_type": "stream",
     "text": [
      "froid\n"
     ]
    }
   ],
   "source": [
    "temp = 30\n",
    "if temp >50:\n",
    "    print('chaud')\n",
    "else:\n",
    "    print('froid')"
   ]
  },
  {
   "cell_type": "code",
   "execution_count": 38,
   "metadata": {},
   "outputs": [],
   "source": [
    "temp = [50,20,35,10]\n",
    "\n",
    "high_temp = []\n",
    "low_temp = []\n",
    "\n",
    "for t in temp:\n",
    "    if t >30:\n",
    "        high_temp.append(t)\n",
    "    else:\n",
    "        low_temp.append(t)\n"
   ]
  },
  {
   "cell_type": "code",
   "execution_count": 39,
   "metadata": {},
   "outputs": [
    {
     "name": "stdout",
     "output_type": "stream",
     "text": [
      "[50, 35]\n",
      "[20, 10]\n"
     ]
    }
   ],
   "source": [
    "print(high_temp)\n",
    "print(low_temp)"
   ]
  },
  {
   "cell_type": "code",
   "execution_count": 40,
   "metadata": {},
   "outputs": [
    {
     "name": "stdout",
     "output_type": "stream",
     "text": [
      "['Vénus', 'Terre', 'Mars']\n",
      "['Mercure', 'Jupiter', 'Saturne', 'Neptune', 'Uranus']\n"
     ]
    }
   ],
   "source": [
    "planet_names = ['Mercure','Vénus','Terre','Mars','Jupiter','Saturne','Neptune','Uranus']\n",
    "long_names = []\n",
    "short_names = []\n",
    "\n",
    "for planet in planet_names:\n",
    "    if len(planet) >5:\n",
    "        long_names.append(planet)\n",
    "    else:\n",
    "        short_names.append(planet)\n",
    "print(short_names)\n",
    "print(long_names)"
   ]
  },
  {
   "cell_type": "markdown",
   "metadata": {},
   "source": [
    "## compter les éléments et résultats -> Dico"
   ]
  },
  {
   "cell_type": "code",
   "execution_count": 41,
   "metadata": {},
   "outputs": [],
   "source": [
    "# exemple"
   ]
  },
  {
   "cell_type": "code",
   "execution_count": 42,
   "metadata": {},
   "outputs": [
    {
     "name": "stdout",
     "output_type": "stream",
     "text": [
      "{'citron': 1, 'pomme': 2, 'poire': 2, 'banane': 2}\n"
     ]
    }
   ],
   "source": [
    "fruits = ['citron','pomme','poire','poire','pomme','banane','banane']\n",
    "fruits_count = {}\n",
    "\n",
    "for f in fruits:\n",
    "    if f in fruits_count:\n",
    "        fruits_count[f] +=1\n",
    "    else:\n",
    "        fruits_count[f] = 1\n",
    "\n",
    "print(fruits_count)"
   ]
  },
  {
   "cell_type": "code",
   "execution_count": 44,
   "metadata": {},
   "outputs": [
    {
     "data": {
      "text/plain": [
       "['Pluie', 'Soleil', 'Nuage', 'Nuage-Pluie', 'Orage', 'Climat']"
      ]
     },
     "execution_count": 44,
     "metadata": {},
     "output_type": "execute_result"
    }
   ],
   "source": [
    "weather\n",
    "weather_types"
   ]
  },
  {
   "cell_type": "code",
   "execution_count": 45,
   "metadata": {},
   "outputs": [
    {
     "name": "stdout",
     "output_type": "stream",
     "text": [
      "{'Soleil': 210, 'Pluie': 25, 'Nuage': 125, 'Nuage-Pluie': 4, 'Orage': 1}\n"
     ]
    }
   ],
   "source": [
    "weather_count={}\n",
    "\n",
    "for w in weather:\n",
    "    if w in weather_types:\n",
    "        if w in weather_count:\n",
    "            weather_count[w] += 1\n",
    "        else:\n",
    "            weather_count[w] = 1\n",
    "\n",
    "print(weather_count)"
   ]
  },
  {
   "cell_type": "code",
   "execution_count": null,
   "metadata": {},
   "outputs": [],
   "source": []
  }
 ],
 "metadata": {
  "kernelspec": {
   "display_name": "Python 3",
   "language": "python",
   "name": "python3"
  },
  "language_info": {
   "codemirror_mode": {
    "name": "ipython",
    "version": 3
   },
   "file_extension": ".py",
   "mimetype": "text/x-python",
   "name": "python",
   "nbconvert_exporter": "python",
   "pygments_lexer": "ipython3",
   "version": "3.6.5"
  }
 },
 "nbformat": 4,
 "nbformat_minor": 2
}
